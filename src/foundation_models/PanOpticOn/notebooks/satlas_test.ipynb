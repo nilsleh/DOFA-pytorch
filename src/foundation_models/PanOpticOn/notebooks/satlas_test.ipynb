{
 "cells": [
  {
   "cell_type": "code",
   "execution_count": 1,
   "metadata": {},
   "outputs": [],
   "source": [
    "%load_ext autoreload\n",
    "%autoreload 2\n",
    "import os\n",
    "import sys\n",
    "import pandas as pd\n",
    "\n",
    "os.chdir(os.path.abspath('..'))\n"
   ]
  },
  {
   "cell_type": "code",
   "execution_count": 2,
   "metadata": {},
   "outputs": [],
   "source": [
    "from dinov2.data.datasets.satlas import SatlasDataset\n",
    "\n",
    "root = '/data/panopticon/datasets/satlas'\n",
    "\n",
    "satlas_ds = SatlasDataset(root=root, normalize=True, full_spectra=True)"
   ]
  },
  {
   "cell_type": "code",
   "execution_count": 37,
   "metadata": {},
   "outputs": [
    {
     "data": {
      "text/plain": [
       "{'b05', 'b06', 'b07', 'b08', 'b11', 'b12', 'tci'}"
      ]
     },
     "execution_count": 37,
     "metadata": {},
     "output_type": "execute_result"
    }
   ],
   "source": [
    "set(satlas_ds.s2_bandname_map.values())"
   ]
  },
  {
   "cell_type": "code",
   "execution_count": 52,
   "metadata": {},
   "outputs": [
    {
     "name": "stdout",
     "output_type": "stream",
     "text": [
      "s1: 2\n",
      "l9: 11\n",
      "torch.Size([2, 2])\n",
      "torch.Size([11, 2])\n",
      "[[tensor([[-1., -1.]]), tensor([[-2., -1.]])], [tensor([[442.7355,  10.8443]]), tensor([[482.3008,  39.8427]]), tensor([[560.9277,  38.5178]]), tensor([[654.2978,  25.2545]]), tensor([[864.6171,  20.1719]]), tensor([[1608.4401,   60.7333]]), tensor([[2200.9832,  130.8720]]), tensor([[1374.1533,   14.9113]]), tensor([[593.9452, 111.8967]]), tensor([[10838.8330,   526.2402]]), tensor([[12023.3994,   644.5646]])]] 2\n"
     ]
    },
    {
     "data": {
      "text/plain": [
       "[{'imgs': [[tensor([[[0.1118, 0.1275, 0.1431,  ..., 0.0725, 0.0725, 0.0647],\n",
       "             [0.1235, 0.1353, 0.1431,  ..., 0.0608, 0.0608, 0.0569],\n",
       "             [0.1314, 0.1392, 0.1431,  ..., 0.0412, 0.0373, 0.0333],\n",
       "             ...,\n",
       "             [0.0176, 0.0255, 0.0294,  ..., 0.0961, 0.0961, 0.0922],\n",
       "             [0.0216, 0.0255, 0.0294,  ..., 0.1039, 0.1039, 0.0961],\n",
       "             [0.0216, 0.0216, 0.0255,  ..., 0.1078, 0.1078, 0.1000]]]),\n",
       "    tensor([[[ 0.0059,  0.0020, -0.0176,  ..., -0.0647, -0.0725, -0.0490],\n",
       "             [-0.0059, -0.0059, -0.0216,  ..., -0.0843, -0.0961, -0.0725],\n",
       "             [-0.0137, -0.0137, -0.0255,  ..., -0.0882, -0.1078, -0.1039],\n",
       "             ...,\n",
       "             [-0.1824, -0.2098, -0.2137,  ..., -0.0490, -0.0569, -0.0529],\n",
       "             [-0.1667, -0.1902, -0.2020,  ..., -0.0490, -0.0529, -0.0569],\n",
       "             [-0.1627, -0.1745, -0.1824,  ..., -0.0451, -0.0490, -0.0569]]])]],\n",
       "  'chn_ids': [[tensor([[-1., -1.]]), tensor([[-2., -1.]])]]},\n",
       " {'imgs': [[tensor([[[ 2.2070,  2.2301,  2.2531,  ...,  2.3684,  2.3453,  2.3223],\n",
       "             [ 2.2070,  2.2301,  2.2762,  ...,  2.5528,  2.5067,  2.4837],\n",
       "             [ 2.2070,  2.2301,  2.2531,  ...,  2.7603,  2.6912,  2.6451],\n",
       "             ...,\n",
       "             [ 0.8929,  0.8007,  0.7315,  ..., -0.1215, -0.1445, -0.1445],\n",
       "             [ 0.8468,  0.7776,  0.7085,  ..., -0.0984, -0.1215, -0.1445],\n",
       "             [ 0.8007,  0.7546,  0.6854,  ..., -0.0984, -0.1215, -0.1445]]]),\n",
       "    tensor([[[ 2.2237,  2.2455,  2.2673,  ...,  2.3981,  2.3545,  2.3109],\n",
       "             [ 2.2455,  2.2673,  2.2891,  ...,  2.5725,  2.5289,  2.4853],\n",
       "             [ 2.2237,  2.2455,  2.2891,  ...,  2.7687,  2.7251,  2.6597],\n",
       "             ...,\n",
       "             [ 0.8286,  0.7414,  0.6542,  ..., -0.2177, -0.2395, -0.2395],\n",
       "             [ 0.8068,  0.7414,  0.6542,  ..., -0.1959, -0.2177, -0.2395],\n",
       "             [ 0.7632,  0.7196,  0.6324,  ..., -0.1741, -0.1959, -0.2177]]]),\n",
       "    tensor([[[ 1.8616,  1.8616,  1.9024,  ...,  2.1063,  2.0655,  2.0451],\n",
       "             [ 1.8616,  1.8820,  1.9228,  ...,  2.2898,  2.2490,  2.2083],\n",
       "             [ 1.8616,  1.8820,  1.9024,  ...,  2.4734,  2.4122,  2.3714],\n",
       "             ...,\n",
       "             [ 0.4953,  0.4137,  0.3321,  ..., -0.4632, -0.4836, -0.5040],\n",
       "             [ 0.4341,  0.3933,  0.3117,  ..., -0.4632, -0.4836, -0.5040],\n",
       "             [ 0.3933,  0.3525,  0.2913,  ..., -0.4632, -0.4836, -0.5040]]]),\n",
       "    tensor([[[ 1.7850,  1.7850,  1.8202,  ...,  2.0142,  1.9789,  1.9613],\n",
       "             [ 1.7850,  1.8026,  1.8379,  ...,  2.1905,  2.1553,  2.1200],\n",
       "             [ 1.7673,  1.7850,  1.8202,  ...,  2.3845,  2.3316,  2.2787],\n",
       "             ...,\n",
       "             [ 0.4096,  0.3391,  0.2509,  ..., -0.5250, -0.5426, -0.5602],\n",
       "             [ 0.3743,  0.3214,  0.2333,  ..., -0.5426, -0.5426, -0.5602],\n",
       "             [ 0.3214,  0.2862,  0.2156,  ..., -0.5426, -0.5602, -0.5602]]]),\n",
       "    tensor([[[ 0.8853,  0.8997,  0.9284,  ...,  1.1584,  1.1441,  1.1153],\n",
       "             [ 0.8997,  0.9141,  0.9428,  ...,  1.3166,  1.2878,  1.2591],\n",
       "             [ 0.8853,  0.8997,  0.9284,  ...,  1.3453,  1.3453,  1.3453],\n",
       "             ...,\n",
       "             [-0.6097, -0.6816, -0.7679,  ..., -0.9691, -1.0122, -1.0554],\n",
       "             [-0.6385, -0.6960, -0.7822,  ..., -0.9835, -1.0266, -1.0697],\n",
       "             [-0.6816, -0.7247, -0.7822,  ..., -0.9979, -1.0410, -1.0841]]]),\n",
       "    tensor([[[ 0.6357,  0.6357,  0.6654,  ...,  0.7841,  0.7544,  0.7396],\n",
       "             [ 0.6357,  0.6506,  0.6802,  ...,  0.9027,  0.8879,  0.8582],\n",
       "             [ 0.6209,  0.6357,  0.6654,  ...,  1.0362,  1.0214,  0.9917],\n",
       "             ...,\n",
       "             [-0.3877, -0.4470, -0.5212,  ..., -1.3221, -1.3221, -1.3221],\n",
       "             [-0.4173, -0.4618, -0.5212,  ..., -1.3221, -1.3221, -1.3221],\n",
       "             [-0.4618, -0.4915, -0.5360,  ..., -1.3221, -1.3221, -1.3221]]]),\n",
       "    tensor([[[ 0.7439,  0.7439,  0.7606,  ...,  0.7773,  0.7773,  0.7606],\n",
       "             [ 0.7606,  0.7606,  0.7773,  ...,  0.8943,  0.8943,  0.8943],\n",
       "             [ 0.7439,  0.7439,  0.7773,  ...,  1.0279,  1.0112,  1.0112],\n",
       "             ...,\n",
       "             [-0.0243, -0.0744, -0.1413,  ..., -1.0431, -1.0431, -1.0431],\n",
       "             [-0.0577, -0.1079, -0.1580,  ..., -1.0431, -1.0431, -1.0431],\n",
       "             [-0.1079, -0.1413, -0.1914,  ..., -1.0431, -1.0431, -1.0431]]]),\n",
       "    tensor([[[ 1.7689,  1.7689,  1.7882,  ...,  1.7496,  1.7303,  1.7496],\n",
       "             [ 1.7882,  1.7882,  1.7882,  ...,  1.8075,  1.8075,  1.8268],\n",
       "             [ 1.8075,  1.8075,  1.8075,  ...,  1.8847,  1.8847,  1.9040],\n",
       "             ...,\n",
       "             [ 0.5331,  0.4945,  0.4366,  ..., -0.3937, -0.3551, -0.3937],\n",
       "             [ 0.5138,  0.4945,  0.4366,  ..., -0.4130, -0.3744, -0.4130],\n",
       "             [ 0.4752,  0.4559,  0.4173,  ..., -0.4516, -0.4130, -0.4516]]]),\n",
       "    tensor([[[0.0094, 0.0094, 0.0094,  ..., 0.1039, 0.1039, 0.1039],\n",
       "             [0.0094, 0.0094, 0.0094,  ..., 0.1039, 0.1039, 0.1039],\n",
       "             [0.0094, 0.0094, 0.0094,  ..., 0.1039, 0.1039, 0.1039],\n",
       "             ...,\n",
       "             [0.1039, 0.1039, 0.1039,  ..., 0.1039, 0.1039, 0.1039],\n",
       "             [0.1039, 0.1039, 0.1039,  ..., 0.1039, 0.1039, 0.1039],\n",
       "             [0.1039, 0.1039, 0.1039,  ..., 0.1039, 0.1039, 0.1039]]]),\n",
       "    tensor([[[-1.2969, -1.2969, -1.3234,  ..., -1.3763, -1.3498, -1.3234],\n",
       "             [-1.2969, -1.2969, -1.3234,  ..., -1.3498, -1.3498, -1.3234],\n",
       "             [-1.2969, -1.2969, -1.2969,  ..., -1.3498, -1.3234, -1.3234],\n",
       "             ...,\n",
       "             [-1.2175, -1.1911, -1.1646,  ..., -0.8471, -0.8206, -0.8206],\n",
       "             [-1.2175, -1.1911, -1.1646,  ..., -0.8471, -0.8471, -0.8471],\n",
       "             [-1.2175, -1.1911, -1.1911,  ..., -0.9000, -0.9000, -0.9000]]]),\n",
       "    tensor([[[-1.5484, -1.5763, -1.5763,  ..., -1.6041, -1.6041, -1.5763],\n",
       "             [-1.5484, -1.5484, -1.5763,  ..., -1.6041, -1.5763, -1.5763],\n",
       "             [-1.5484, -1.5484, -1.5763,  ..., -1.6041, -1.5763, -1.5763],\n",
       "             ...,\n",
       "             [-1.5206, -1.4928, -1.4928,  ..., -1.1591, -1.1591, -1.1591],\n",
       "             [-1.5206, -1.5206, -1.4928,  ..., -1.1869, -1.1869, -1.1869],\n",
       "             [-1.5484, -1.5206, -1.4928,  ..., -1.2147, -1.2147, -1.2147]]])]],\n",
       "  'chn_ids': [[tensor([[442.7355,  10.8443]]),\n",
       "    tensor([[482.3008,  39.8427]]),\n",
       "    tensor([[560.9277,  38.5178]]),\n",
       "    tensor([[654.2978,  25.2545]]),\n",
       "    tensor([[864.6171,  20.1719]]),\n",
       "    tensor([[1608.4401,   60.7333]]),\n",
       "    tensor([[2200.9832,  130.8720]]),\n",
       "    tensor([[1374.1533,   14.9113]]),\n",
       "    tensor([[593.9452, 111.8967]]),\n",
       "    tensor([[10838.8330,   526.2402]]),\n",
       "    tensor([[12023.3994,   644.5646]])]]}]"
      ]
     },
     "execution_count": 52,
     "metadata": {},
     "output_type": "execute_result"
    }
   ],
   "source": [
    "sample = satlas_ds[0]\n",
    "sample"
   ]
  },
  {
   "cell_type": "code",
   "execution_count": 43,
   "metadata": {},
   "outputs": [
    {
     "data": {
      "text/plain": [
       "(9, 9)"
      ]
     },
     "execution_count": 43,
     "metadata": {},
     "output_type": "execute_result"
    }
   ],
   "source": [
    "len(sample[1]['imgs'][0]), len(sample[1]['chn_ids'][0])"
   ]
  },
  {
   "cell_type": "code",
   "execution_count": 47,
   "metadata": {},
   "outputs": [
    {
     "name": "stdout",
     "output_type": "stream",
     "text": [
      "torch.Size([1, 2])\n",
      "torch.Size([1, 2])\n",
      "torch.Size([1, 2])\n",
      "torch.Size([1, 2])\n",
      "torch.Size([1, 2])\n",
      "torch.Size([1, 2])\n",
      "torch.Size([1, 2])\n",
      "torch.Size([1, 2])\n",
      "torch.Size([1, 2])\n"
     ]
    }
   ],
   "source": [
    "for i in range(len(sample[1]['chn_ids'][0])):\n",
    "    print(sample[1]['chn_ids'][0][i].shape)"
   ]
  },
  {
   "cell_type": "code",
   "execution_count": 48,
   "metadata": {},
   "outputs": [
    {
     "name": "stdout",
     "output_type": "stream",
     "text": [
      "torch.Size([1, 512, 512])\n",
      "torch.Size([1, 512, 512])\n",
      "torch.Size([1, 512, 512])\n",
      "torch.Size([1, 512, 512])\n",
      "torch.Size([1, 512, 512])\n",
      "torch.Size([1, 512, 512])\n",
      "torch.Size([1, 512, 512])\n",
      "torch.Size([1, 512, 512])\n",
      "torch.Size([1, 512, 512])\n"
     ]
    }
   ],
   "source": [
    "for i in range(len(sample[1]['imgs'][0])):\n",
    "    print(sample[1]['imgs'][0][i].shape)"
   ]
  },
  {
   "cell_type": "markdown",
   "metadata": {},
   "source": [
    "## With loader & panopticon on device"
   ]
  },
  {
   "cell_type": "code",
   "execution_count": 61,
   "metadata": {},
   "outputs": [
    {
     "name": "stdout",
     "output_type": "stream",
     "text": [
      "00:06:48 panopticon.py:28] ChnAttnPatchEmb: id_attn_block: ChnAttnBlockSimple\n",
      "00:06:48 panopticon.py:104] ChnAttnBlockSimple: norm_input: True, skip_conn: True, norm_output: False, use_layer_scale: False\n",
      "00:06:48 loaders.py:69] Building dataset \"SatlasDataset\" ...\n",
      "00:06:48 augmentations.py:291] ###################################\n",
      "00:06:48 augmentations.py:292] Using data augmentation parameters:\n",
      "00:06:48 augmentations.py:293] id: ChnSpatialAugmentationV2\n",
      "00:06:48 augmentations.py:294] local_crops_number: 4\n",
      "00:06:48 augmentations.py:295] global_crops_scale: [0.32, 1.0]\n",
      "00:06:48 augmentations.py:296] local_crops_scale: [0.05, 0.32]\n",
      "00:06:48 augmentations.py:297] global_crops_size: 224\n",
      "00:06:48 augmentations.py:298] local_crops_size: 98\n",
      "00:06:48 augmentations.py:299] global_crops_spectral_size: [6, 13]\n",
      "00:06:48 augmentations.py:300] local_crops_spectral_size: [3, 6]\n",
      "00:06:48 augmentations.py:301] global_modes_probs: [0.5, 0.3, 0.2]\n",
      "00:06:48 augmentations.py:302] local_modes_probs: [0.2, 0.8]\n",
      "00:06:48 augmentations.py:303] ###################################\n",
      "00:06:48 augmentations.py:59] Augmentations in order: ['ChnSpatialAugmentationV2']\n",
      "00:06:49 satlas.py:105] Building normalization transforms\n",
      "00:06:49 loaders.py:114] Built dataset \"SatlasDataset\" with #samples 770947\n"
     ]
    }
   ],
   "source": [
    "from omegaconf import OmegaConf\n",
    "from dinov2.eval.setup import setup_logger\n",
    "from dinov2.data.loaders import make_dataset\n",
    "from dinov2.models.panopticon import ChnAttnPatchEmb\n",
    "global logger\n",
    "\n",
    "patch_emb_cfg = {'patch_size': 14, 'embed_dim': 256}\n",
    "chnAttnBlock_cfg = {'id_attn_block' :'ChnAttnBlockSimple', 'dim' : 256, 'num_heads':1}\n",
    "chnEmb_cfg = {'embed_dim':256}\n",
    "\n",
    "pan = ChnAttnPatchEmb(patch_emb_cfg=patch_emb_cfg, chnAttnBlock_cfg=chnAttnBlock_cfg, chnEmb_cfg=chnEmb_cfg)\n",
    "\n",
    "\n",
    "logger = setup_logger('dinov2', to_sysout=True, simple_prefix=True)\n",
    "\n",
    "cfg = OmegaConf.load('notebooks/explore_crops.yaml')\n",
    "\n",
    "ds_satlas = make_dataset(cfg.satlas.dataset, dino_augm_cfg=cfg.fmow.dino_augm, seed=42)"
   ]
  },
  {
   "cell_type": "code",
   "execution_count": 69,
   "metadata": {},
   "outputs": [
    {
     "name": "stdout",
     "output_type": "stream",
     "text": [
      "cuda\n",
      "s2: 9\n",
      "l9: 11\n",
      "s2: 9\n",
      "s1: 2\n",
      "s1: 2\n",
      "l9: 11\n"
     ]
    },
    {
     "name": "stdout",
     "output_type": "stream",
     "text": [
      "s2: 9\n",
      "s1: 2\n",
      "s1: 2\n",
      "l9: 11\n",
      "cuda:0\n",
      "cuda:0\n"
     ]
    },
    {
     "data": {
      "text/plain": [
       "torch.Size([5, 256, 256])"
      ]
     },
     "execution_count": 69,
     "metadata": {},
     "output_type": "execute_result"
    }
   ],
   "source": [
    "from torch.utils.data import DataLoader\n",
    "import torch\n",
    "device = torch.device('cuda' if torch.cuda.is_available() else 'cpu')\n",
    "print(device)\n",
    "\n",
    "dl_fmow = DataLoader(ds_satlas, batch_size=5)\n",
    "\n",
    "sample = next(iter(dl_fmow))\n",
    "\n",
    "sample = sample['global_crops_teacher'][0]\n",
    "# print(sample)\n",
    "\n",
    "input_0 = dict(imgs = sample['imgs'].to(dtype=torch.float32), chn_ids = sample['chn_ids'], spec_masks = sample['spec_masks'])\n",
    "\n",
    "# input_0['chn_ids'], input_0['spec_masks']\n",
    "\n",
    "for k in input_0:\n",
    "    input_0[k] = input_0[k].to(device)\n",
    "    torch.cuda.synchronize()\n",
    "\n",
    "print(input_0['imgs'].device)\n",
    "\n",
    "pan = pan.to(device)\n",
    "\n",
    "print(next(pan.parameters()).device)\n",
    "\n",
    "out = pan(input_0)\n",
    "out[0].shape"
   ]
  },
  {
   "cell_type": "markdown",
   "metadata": {},
   "source": []
  }
 ],
 "metadata": {
  "kernelspec": {
   "display_name": "Python 3",
   "language": "python",
   "name": "python3"
  },
  "language_info": {
   "codemirror_mode": {
    "name": "ipython",
    "version": 3
   },
   "file_extension": ".py",
   "mimetype": "text/x-python",
   "name": "python",
   "nbconvert_exporter": "python",
   "pygments_lexer": "ipython3",
   "version": "3.9.20"
  }
 },
 "nbformat": 4,
 "nbformat_minor": 2
}
