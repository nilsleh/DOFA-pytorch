{
 "cells": [
  {
   "cell_type": "code",
   "execution_count": 3,
   "metadata": {},
   "outputs": [],
   "source": [
    "%load_ext autoreload\n",
    "%autoreload 2\n",
    "import os\n",
    "import sys\n",
    "import pandas as pd\n",
    "\n",
    "os.chdir(os.path.abspath('..'))\n"
   ]
  },
  {
   "cell_type": "code",
   "execution_count": 4,
   "metadata": {},
   "outputs": [
    {
     "name": "stdout",
     "output_type": "stream",
     "text": [
      "data_1M_v001 /data/panopticon/datasets/mmearth/data_1M_v001/data_1M_v001.h5\n",
      "Removed 589 rows that did not have sentinel1 data\n"
     ]
    }
   ],
   "source": [
    "from dinov2.data.datasets.mmearth import MMEarthWrapper, MMEarth\n",
    "base_path = '/data/panopticon/datasets/mmearth/data_1M_v001'\n",
    "\n",
    "mme = MMEarthWrapper(base_path, modalities=MMEarth.MODALITY_MINIMAL_SET1, split='train')\n"
   ]
  },
  {
   "cell_type": "code",
   "execution_count": 5,
   "metadata": {},
   "outputs": [
    {
     "data": {
      "text/plain": [
       "1239937"
      ]
     },
     "execution_count": 5,
     "metadata": {},
     "output_type": "execute_result"
    }
   ],
   "source": [
    "len(mme)"
   ]
  },
  {
   "cell_type": "code",
   "execution_count": 6,
   "metadata": {},
   "outputs": [
    {
     "data": {
      "text/plain": [
       "(torch.Size([12, 128, 128]),\n",
       " tensor([ 442,  492,  559,  664,  704,  740,  782,  832,  864,  945, 1613, 2202],\n",
       "        dtype=torch.int32),\n",
       " torch.Size([4, 128, 128]),\n",
       " tensor([ -5,  -6,  -9, -10], dtype=torch.int32))"
      ]
     },
     "execution_count": 6,
     "metadata": {},
     "output_type": "execute_result"
    }
   ],
   "source": [
    "sample = mme[-1]\n",
    "\n",
    "sample['imgs'][0][0].shape,sample['chn_ids'][0], sample['imgs'][1][0].shape, sample['chn_ids'][1]"
   ]
  },
  {
   "cell_type": "code",
   "execution_count": 8,
   "metadata": {},
   "outputs": [
    {
     "name": "stderr",
     "output_type": "stream",
     "text": [
      "/data/tmp/ipykernel_2595401/4109547142.py:2: DeprecationWarning: __array_wrap__ must accept context and return_scalar arguments (positionally) in the future. (Deprecated NumPy 2.0)\n",
      "  np.isnan(sample['imgs'][0][0]).all(axis=(1, 2))\n"
     ]
    },
    {
     "data": {
      "text/plain": [
       "tensor([0, 0, 0, 0, 0, 0, 0, 0, 0, 0, 0, 0], dtype=torch.uint8)"
      ]
     },
     "execution_count": 8,
     "metadata": {},
     "output_type": "execute_result"
    }
   ],
   "source": [
    "import numpy as np\n",
    "np.isnan(sample['imgs'][0][0]).all(axis=(1, 2))"
   ]
  },
  {
   "cell_type": "code",
   "execution_count": 13,
   "metadata": {},
   "outputs": [
    {
     "data": {
      "text/html": [
       "<div>\n",
       "<style scoped>\n",
       "    .dataframe tbody tr th:only-of-type {\n",
       "        vertical-align: middle;\n",
       "    }\n",
       "\n",
       "    .dataframe tbody tr th {\n",
       "        vertical-align: top;\n",
       "    }\n",
       "\n",
       "    .dataframe thead th {\n",
       "        text-align: right;\n",
       "    }\n",
       "</style>\n",
       "<table border=\"1\" class=\"dataframe\">\n",
       "  <thead>\n",
       "    <tr style=\"text-align: right;\">\n",
       "      <th></th>\n",
       "      <th>id</th>\n",
       "      <th>s2_date</th>\n",
       "      <th>s2_type</th>\n",
       "      <th>crs</th>\n",
       "      <th>lat</th>\n",
       "      <th>lon</th>\n",
       "      <th>biome</th>\n",
       "      <th>eco_region</th>\n",
       "      <th>no_data</th>\n",
       "      <th>bands</th>\n",
       "      <th>era5</th>\n",
       "      <th>hf5_idx</th>\n",
       "      <th>split</th>\n",
       "      <th>sensor</th>\n",
       "    </tr>\n",
       "  </thead>\n",
       "  <tbody>\n",
       "    <tr>\n",
       "      <th>0</th>\n",
       "      <td>966869</td>\n",
       "      <td>2018-07-23</td>\n",
       "      <td>l1c</td>\n",
       "      <td>EPSG:32618</td>\n",
       "      <td>10.725052</td>\n",
       "      <td>-74.436832</td>\n",
       "      <td>9</td>\n",
       "      <td>673</td>\n",
       "      <td>False</td>\n",
       "      <td>{'aster': ['b1', 'slope'], 'canopy_height_eth'...</td>\n",
       "      <td>{'month1': [300.7351797527737, 296.75398254394...</td>\n",
       "      <td>0</td>\n",
       "      <td>train</td>\n",
       "      <td>[sentinel2, sentinel1_asc, sentinel1_desc, ast...</td>\n",
       "    </tr>\n",
       "    <tr>\n",
       "      <th>1</th>\n",
       "      <td>717545</td>\n",
       "      <td>2017-11-11</td>\n",
       "      <td>l1c</td>\n",
       "      <td>EPSG:32648</td>\n",
       "      <td>30.042947</td>\n",
       "      <td>102.174004</td>\n",
       "      <td>6</td>\n",
       "      <td>532</td>\n",
       "      <td>False</td>\n",
       "      <td>{'aster': ['b1', 'slope'], 'canopy_height_eth'...</td>\n",
       "      <td>{'month1': [279.72476965381253, 270.1488952636...</td>\n",
       "      <td>1</td>\n",
       "      <td>train</td>\n",
       "      <td>[sentinel2, sentinel1_asc, sentinel1_desc, ast...</td>\n",
       "    </tr>\n",
       "    <tr>\n",
       "      <th>2</th>\n",
       "      <td>577901</td>\n",
       "      <td>2020-09-24</td>\n",
       "      <td>l1c</td>\n",
       "      <td>EPSG:32657</td>\n",
       "      <td>53.633647</td>\n",
       "      <td>158.703385</td>\n",
       "      <td>5</td>\n",
       "      <td>480</td>\n",
       "      <td>False</td>\n",
       "      <td>{'aster': ['b1', 'slope'], 'canopy_height_eth'...</td>\n",
       "      <td>{'month1': [282.62446579881896, 274.5160522460...</td>\n",
       "      <td>2</td>\n",
       "      <td>train</td>\n",
       "      <td>[sentinel2, sentinel1_asc, sentinel1_desc, ast...</td>\n",
       "    </tr>\n",
       "    <tr>\n",
       "      <th>3</th>\n",
       "      <td>538060</td>\n",
       "      <td>2017-07-28</td>\n",
       "      <td>l1c</td>\n",
       "      <td>EPSG:32647</td>\n",
       "      <td>65.269372</td>\n",
       "      <td>100.644807</td>\n",
       "      <td>5</td>\n",
       "      <td>475</td>\n",
       "      <td>False</td>\n",
       "      <td>{'aster': ['b1', 'slope'], 'canopy_height_eth'...</td>\n",
       "      <td>{'month1': [286.904347691458, 271.604249847515...</td>\n",
       "      <td>3</td>\n",
       "      <td>train</td>\n",
       "      <td>[sentinel2, sentinel1_desc, aster, era5, dynam...</td>\n",
       "    </tr>\n",
       "    <tr>\n",
       "      <th>4</th>\n",
       "      <td>664133</td>\n",
       "      <td>2018-09-20</td>\n",
       "      <td>l2a</td>\n",
       "      <td>EPSG:32634</td>\n",
       "      <td>50.003281</td>\n",
       "      <td>20.537190</td>\n",
       "      <td>6</td>\n",
       "      <td>505</td>\n",
       "      <td>False</td>\n",
       "      <td>{'aster': ['b1', 'slope'], 'canopy_height_eth'...</td>\n",
       "      <td>{'month1': [293.93280952207505, 281.7649688720...</td>\n",
       "      <td>4</td>\n",
       "      <td>train</td>\n",
       "      <td>[sentinel2, sentinel1_asc, sentinel1_desc, ast...</td>\n",
       "    </tr>\n",
       "    <tr>\n",
       "      <th>...</th>\n",
       "      <td>...</td>\n",
       "      <td>...</td>\n",
       "      <td>...</td>\n",
       "      <td>...</td>\n",
       "      <td>...</td>\n",
       "      <td>...</td>\n",
       "      <td>...</td>\n",
       "      <td>...</td>\n",
       "      <td>...</td>\n",
       "      <td>...</td>\n",
       "      <td>...</td>\n",
       "      <td>...</td>\n",
       "      <td>...</td>\n",
       "      <td>...</td>\n",
       "    </tr>\n",
       "    <tr>\n",
       "      <th>1239932</th>\n",
       "      <td>1279127</td>\n",
       "      <td>2020-08-12</td>\n",
       "      <td>l1c</td>\n",
       "      <td>EPSG:32736</td>\n",
       "      <td>-6.243885</td>\n",
       "      <td>32.153590</td>\n",
       "      <td>11</td>\n",
       "      <td>768</td>\n",
       "      <td>False</td>\n",
       "      <td>{'aster': ['b1', 'slope'], 'canopy_height_eth'...</td>\n",
       "      <td>{'month1': [294.79952247953656, 286.3188744712...</td>\n",
       "      <td>1240521</td>\n",
       "      <td>train</td>\n",
       "      <td>[sentinel2, sentinel1_asc, sentinel1_desc, ast...</td>\n",
       "    </tr>\n",
       "    <tr>\n",
       "      <th>1239933</th>\n",
       "      <td>626248</td>\n",
       "      <td>2020-05-09</td>\n",
       "      <td>l1c</td>\n",
       "      <td>EPSG:32608</td>\n",
       "      <td>63.724576</td>\n",
       "      <td>-134.834008</td>\n",
       "      <td>5</td>\n",
       "      <td>493</td>\n",
       "      <td>False</td>\n",
       "      <td>{'aster': ['b1', 'slope'], 'canopy_height_eth'...</td>\n",
       "      <td>{'month1': [268.12983883751764, 251.8291015625...</td>\n",
       "      <td>1240522</td>\n",
       "      <td>train</td>\n",
       "      <td>[sentinel2, sentinel1_asc, aster, era5, dynami...</td>\n",
       "    </tr>\n",
       "    <tr>\n",
       "      <th>1239934</th>\n",
       "      <td>1310906</td>\n",
       "      <td>2018-08-12</td>\n",
       "      <td>l1c</td>\n",
       "      <td>EPSG:32724</td>\n",
       "      <td>-12.083331</td>\n",
       "      <td>-41.660711</td>\n",
       "      <td>12</td>\n",
       "      <td>779</td>\n",
       "      <td>False</td>\n",
       "      <td>{'aster': ['b1', 'slope'], 'canopy_height_eth'...</td>\n",
       "      <td>{'month1': [292.1041757111908, 285.00070190429...</td>\n",
       "      <td>1240523</td>\n",
       "      <td>train</td>\n",
       "      <td>[sentinel2, sentinel1_desc, aster, era5, dynam...</td>\n",
       "    </tr>\n",
       "    <tr>\n",
       "      <th>1239935</th>\n",
       "      <td>425607</td>\n",
       "      <td>2019-02-06</td>\n",
       "      <td>l2a</td>\n",
       "      <td>EPSG:32637</td>\n",
       "      <td>22.885851</td>\n",
       "      <td>41.028868</td>\n",
       "      <td>3</td>\n",
       "      <td>421</td>\n",
       "      <td>False</td>\n",
       "      <td>{'aster': ['b1', 'slope'], 'canopy_height_eth'...</td>\n",
       "      <td>{'month1': [293.0026272394324, 279.38739013671...</td>\n",
       "      <td>1240524</td>\n",
       "      <td>train</td>\n",
       "      <td>[sentinel2, sentinel1_asc, aster, era5, dynami...</td>\n",
       "    </tr>\n",
       "    <tr>\n",
       "      <th>1239936</th>\n",
       "      <td>884751</td>\n",
       "      <td>2019-09-11</td>\n",
       "      <td>l2a</td>\n",
       "      <td>EPSG:32644</td>\n",
       "      <td>31.501607</td>\n",
       "      <td>82.378551</td>\n",
       "      <td>8</td>\n",
       "      <td>634</td>\n",
       "      <td>False</td>\n",
       "      <td>{'aster': ['b1', 'slope'], 'canopy_height_eth'...</td>\n",
       "      <td>{'month1': [279.28749174712806, 269.9517669677...</td>\n",
       "      <td>1240525</td>\n",
       "      <td>train</td>\n",
       "      <td>[sentinel2, sentinel1_asc, sentinel1_desc, ast...</td>\n",
       "    </tr>\n",
       "  </tbody>\n",
       "</table>\n",
       "<p>1239937 rows × 14 columns</p>\n",
       "</div>"
      ],
      "text/plain": [
       "              id     s2_date s2_type         crs        lat         lon  \\\n",
       "0         966869  2018-07-23     l1c  EPSG:32618  10.725052  -74.436832   \n",
       "1         717545  2017-11-11     l1c  EPSG:32648  30.042947  102.174004   \n",
       "2         577901  2020-09-24     l1c  EPSG:32657  53.633647  158.703385   \n",
       "3         538060  2017-07-28     l1c  EPSG:32647  65.269372  100.644807   \n",
       "4         664133  2018-09-20     l2a  EPSG:32634  50.003281   20.537190   \n",
       "...          ...         ...     ...         ...        ...         ...   \n",
       "1239932  1279127  2020-08-12     l1c  EPSG:32736  -6.243885   32.153590   \n",
       "1239933   626248  2020-05-09     l1c  EPSG:32608  63.724576 -134.834008   \n",
       "1239934  1310906  2018-08-12     l1c  EPSG:32724 -12.083331  -41.660711   \n",
       "1239935   425607  2019-02-06     l2a  EPSG:32637  22.885851   41.028868   \n",
       "1239936   884751  2019-09-11     l2a  EPSG:32644  31.501607   82.378551   \n",
       "\n",
       "         biome  eco_region  no_data  \\\n",
       "0            9         673    False   \n",
       "1            6         532    False   \n",
       "2            5         480    False   \n",
       "3            5         475    False   \n",
       "4            6         505    False   \n",
       "...        ...         ...      ...   \n",
       "1239932     11         768    False   \n",
       "1239933      5         493    False   \n",
       "1239934     12         779    False   \n",
       "1239935      3         421    False   \n",
       "1239936      8         634    False   \n",
       "\n",
       "                                                     bands  \\\n",
       "0        {'aster': ['b1', 'slope'], 'canopy_height_eth'...   \n",
       "1        {'aster': ['b1', 'slope'], 'canopy_height_eth'...   \n",
       "2        {'aster': ['b1', 'slope'], 'canopy_height_eth'...   \n",
       "3        {'aster': ['b1', 'slope'], 'canopy_height_eth'...   \n",
       "4        {'aster': ['b1', 'slope'], 'canopy_height_eth'...   \n",
       "...                                                    ...   \n",
       "1239932  {'aster': ['b1', 'slope'], 'canopy_height_eth'...   \n",
       "1239933  {'aster': ['b1', 'slope'], 'canopy_height_eth'...   \n",
       "1239934  {'aster': ['b1', 'slope'], 'canopy_height_eth'...   \n",
       "1239935  {'aster': ['b1', 'slope'], 'canopy_height_eth'...   \n",
       "1239936  {'aster': ['b1', 'slope'], 'canopy_height_eth'...   \n",
       "\n",
       "                                                      era5  hf5_idx  split  \\\n",
       "0        {'month1': [300.7351797527737, 296.75398254394...        0  train   \n",
       "1        {'month1': [279.72476965381253, 270.1488952636...        1  train   \n",
       "2        {'month1': [282.62446579881896, 274.5160522460...        2  train   \n",
       "3        {'month1': [286.904347691458, 271.604249847515...        3  train   \n",
       "4        {'month1': [293.93280952207505, 281.7649688720...        4  train   \n",
       "...                                                    ...      ...    ...   \n",
       "1239932  {'month1': [294.79952247953656, 286.3188744712...  1240521  train   \n",
       "1239933  {'month1': [268.12983883751764, 251.8291015625...  1240522  train   \n",
       "1239934  {'month1': [292.1041757111908, 285.00070190429...  1240523  train   \n",
       "1239935  {'month1': [293.0026272394324, 279.38739013671...  1240524  train   \n",
       "1239936  {'month1': [279.28749174712806, 269.9517669677...  1240525  train   \n",
       "\n",
       "                                                    sensor  \n",
       "0        [sentinel2, sentinel1_asc, sentinel1_desc, ast...  \n",
       "1        [sentinel2, sentinel1_asc, sentinel1_desc, ast...  \n",
       "2        [sentinel2, sentinel1_asc, sentinel1_desc, ast...  \n",
       "3        [sentinel2, sentinel1_desc, aster, era5, dynam...  \n",
       "4        [sentinel2, sentinel1_asc, sentinel1_desc, ast...  \n",
       "...                                                    ...  \n",
       "1239932  [sentinel2, sentinel1_asc, sentinel1_desc, ast...  \n",
       "1239933  [sentinel2, sentinel1_asc, aster, era5, dynami...  \n",
       "1239934  [sentinel2, sentinel1_desc, aster, era5, dynam...  \n",
       "1239935  [sentinel2, sentinel1_asc, aster, era5, dynami...  \n",
       "1239936  [sentinel2, sentinel1_asc, sentinel1_desc, ast...  \n",
       "\n",
       "[1239937 rows x 14 columns]"
      ]
     },
     "execution_count": 13,
     "metadata": {},
     "output_type": "execute_result"
    }
   ],
   "source": [
    "mme.meta_full"
   ]
  },
  {
   "cell_type": "code",
   "execution_count": 10,
   "metadata": {},
   "outputs": [
    {
     "data": {
      "text/plain": [
       "(torch.Size([13, 128, 128]),\n",
       " torch.Size([2, 128, 128]),\n",
       " [tensor([ 442,  492,  559,  664,  704,  740,  782,  832,  864,  945, 1373, 1613,\n",
       "          2202], dtype=torch.int32),\n",
       "  tensor([ -7, -11], dtype=torch.int32)])"
      ]
     },
     "execution_count": 10,
     "metadata": {},
     "output_type": "execute_result"
    }
   ],
   "source": [
    "import numpy as np\n",
    "sample = mme[168269]\n",
    "sample['imgs'][0][0].shape,sample['imgs'][1][0].shape, sample['chn_ids']"
   ]
  },
  {
   "cell_type": "code",
   "execution_count": 13,
   "metadata": {},
   "outputs": [
    {
     "data": {
      "text/plain": [
       "{'aster': array(['b1', 'slope'], dtype=object),\n",
       " 'canopy_height_eth': array(['height', 'std'], dtype=object),\n",
       " 'dynamic_world': array(['label'], dtype=object),\n",
       " 'era5': array(['201908_temperature_2m', '201908_temperature_2m_min',\n",
       "        '201908_temperature_2m_max', '201908_total_precipitation_sum',\n",
       "        '201909_temperature_2m', '201909_temperature_2m_min',\n",
       "        '201909_temperature_2m_max', '201909_total_precipitation_sum',\n",
       "        '0_temperature_2m_mean', '1_temperature_2m_min_min',\n",
       "        '2_temperature_2m_max_max', '3_total_precipitation_sum_sum'],\n",
       "       dtype=object),\n",
       " 'esa_worldcover': array(['Map'], dtype=object),\n",
       " 'sentinel1_asc': array(['VV', 'VH'], dtype=object),\n",
       " 'sentinel1_desc': array(['VV', 'VH'], dtype=object),\n",
       " 'sentinel2': array(['B1', 'B2', 'B3', 'B4', 'B5', 'B6', 'B7', 'B8A', 'B8', 'B9', 'B11',\n",
       "        'B12', 'MSK_CLDPRB', 'SCL', 'QA60'], dtype=object)}"
      ]
     },
     "execution_count": 13,
     "metadata": {},
     "output_type": "execute_result"
    }
   ],
   "source": [
    "mme.meta_full.iloc[-1]['bands']"
   ]
  },
  {
   "cell_type": "code",
   "execution_count": 8,
   "metadata": {},
   "outputs": [
    {
     "data": {
      "text/plain": [
       "(torch.Size([13, 128, 128]),\n",
       " torch.Size([2, 128, 128]),\n",
       " tensor([ -7, -11], dtype=torch.int32))"
      ]
     },
     "execution_count": 8,
     "metadata": {},
     "output_type": "execute_result"
    }
   ],
   "source": [
    "sample['imgs'][0][0].shape, sample['imgs'][1][0].shape, sample['chn_ids'][1]"
   ]
  },
  {
   "cell_type": "code",
   "execution_count": 13,
   "metadata": {},
   "outputs": [
    {
     "name": "stderr",
     "output_type": "stream",
     "text": [
      "/data/tmp/ipykernel_2595401/587998401.py:10: DeprecationWarning: __array_wrap__ must accept context and return_scalar arguments (positionally) in the future. (Deprecated NumPy 2.0)\n",
      "  if np.isnan(sample['imgs'][0][0]).all(axis=(1, 2)).sum() > 0:\n",
      "/data/tmp/ipykernel_2595401/587998401.py:13: DeprecationWarning: __array_wrap__ must accept context and return_scalar arguments (positionally) in the future. (Deprecated NumPy 2.0)\n",
      "  if np.isnan(sample['imgs'][1][0]).all(axis=(1, 2)).sum() > 0:\n"
     ]
    }
   ],
   "source": [
    "import random\n",
    "\n",
    "target = 1000\n",
    "\n",
    "for n in range(target):\n",
    "    i = random.randint(0, len(mme))\n",
    "    # print(f'Indexing {i}')\n",
    "    sample = mme[i]\n",
    "\n",
    "    if np.isnan(sample['imgs'][0][0]).all(axis=(1, 2)).sum() > 0:\n",
    "        print (f'Indexing {i} - S2 channels:{sample[\"chn_ids\"][0]}')\n",
    "    \n",
    "    if np.isnan(sample['imgs'][1][0]).all(axis=(1, 2)).sum() > 0:\n",
    "        print (f'Indexing {i} - S1 channels:{sample[\"chn_ids\"][1]}')\n"
   ]
  }
 ],
 "metadata": {
  "kernelspec": {
   "display_name": "Python 3",
   "language": "python",
   "name": "python3"
  },
  "language_info": {
   "codemirror_mode": {
    "name": "ipython",
    "version": 3
   },
   "file_extension": ".py",
   "mimetype": "text/x-python",
   "name": "python",
   "nbconvert_exporter": "python",
   "pygments_lexer": "ipython3",
   "version": "3.10.15"
  }
 },
 "nbformat": 4,
 "nbformat_minor": 2
}
