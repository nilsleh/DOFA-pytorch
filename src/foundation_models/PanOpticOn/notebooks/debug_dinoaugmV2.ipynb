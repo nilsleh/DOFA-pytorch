{
 "cells": [
  {
   "cell_type": "markdown",
   "metadata": {},
   "source": [
    "For this notebook to work, fmow dataset needs to return imgs, chn_ids as list"
   ]
  },
  {
   "cell_type": "code",
   "execution_count": 1,
   "metadata": {},
   "outputs": [],
   "source": [
    "%load_ext autoreload\n",
    "%autoreload 2\n",
    "import os\n",
    "import sys\n",
    "os.chdir(os.path.abspath('..'))"
   ]
  },
  {
   "cell_type": "code",
   "execution_count": null,
   "metadata": {},
   "outputs": [
    {
     "name": "stdout",
     "output_type": "stream",
     "text": [
      "I20241102 15:27:35 3076981 dinov2 loaders.py:68] Building dataset \"FmowDataset\" ...\n",
      "I20241102 15:27:35 3076981 dinov2 augmentations.py:59] Augmentations in order: []\n",
      "I20241102 15:27:36 3076981 dinov2 fmow.py:110] Using reference date: 2002-01-01\n",
      "I20241102 15:27:38 3076981 dinov2 fmow.py:132] Dataset size: 95418, sensor counts: {'wv23': 89301, 's2': 72858, 'rgb': 95418}\n",
      "I20241102 15:27:41 3076981 dinov2 fmow.py:167] Subsetted dataset to only include rows where every row has atleast one image >= 256 | #rows = 95418\n",
      "I20241102 15:27:42 3076981 dinov2 fmow.py:132] Dataset size: 95418, sensor counts: {'wv23': 89301, 's2': 72858, 'rgb': 95418}\n",
      "I20241102 15:27:42 3076981 dinov2 fmow.py:198] Subsetted dataset to only include rows where the number of available sensors >= 2 | #rows = 93190\n",
      "I20241102 15:27:43 3076981 dinov2 fmow.py:132] Dataset size: 93190, sensor counts: {'wv23': 89301, 's2': 72858, 'rgb': 93190}\n",
      "I20241102 15:27:43 3076981 dinov2 fmow.py:118] Normalizing images\n",
      "I20241102 15:27:43 3076981 dinov2 loaders.py:109] Built dataset \"FmowDataset\" with #samples 93190\n",
      "I20241102 15:27:43 3076981 dinov2 loaders.py:68] Building dataset \"FmowDataset\" ...\n",
      "I20241102 15:27:43 3076981 dinov2 augmentations.py:59] Augmentations in order: []\n",
      "I20241102 15:27:44 3076981 dinov2 fmow.py:110] Using reference date: 2002-01-01\n",
      "I20241102 15:27:46 3076981 dinov2 fmow.py:132] Dataset size: 95418, sensor counts: {'wv23': 89301, 's2': 72858, 'rgb': 95418}\n",
      "I20241102 15:28:11 3076981 dinov2 fmow.py:160] Subsetted dataset to only include rows where every row has atleast one of the following sensors: ['rgb'] | #rows = 95418\n",
      "I20241102 15:28:12 3076981 dinov2 fmow.py:132] Dataset size: 95418, sensor counts: {'wv23': 0, 's2': 0, 'rgb': 95418}\n",
      "I20241102 15:28:13 3076981 dinov2 fmow.py:167] Subsetted dataset to only include rows where every row has atleast one image >= 256 | #rows = 95418\n",
      "I20241102 15:28:14 3076981 dinov2 fmow.py:132] Dataset size: 95418, sensor counts: {'wv23': 0, 's2': 0, 'rgb': 95418}\n",
      "I20241102 15:28:14 3076981 dinov2 fmow.py:198] Subsetted dataset to only include rows where the number of available sensors >= 2 | #rows = 75041\n",
      "I20241102 15:28:15 3076981 dinov2 fmow.py:132] Dataset size: 75041, sensor counts: {'wv23': 0, 's2': 0, 'rgb': 75041}\n",
      "I20241102 15:28:15 3076981 dinov2 fmow.py:118] Normalizing images\n",
      "I20241102 15:28:15 3076981 dinov2 loaders.py:109] Built dataset \"FmowDataset\" with #samples 75041\n",
      "I20241102 15:28:15 3076981 dinov2 loaders.py:68] Building dataset \"FmowDataset\" ...\n",
      "I20241102 15:28:15 3076981 dinov2 augmentations.py:59] Augmentations in order: []\n",
      "I20241102 15:28:16 3076981 dinov2 fmow.py:110] Using reference date: 2002-01-01\n",
      "I20241102 15:28:16 3076981 dinov2 fmow.py:132] Dataset size: 40099, sensor counts: {'wv23': 40044, 's2': 12063, 'rgb': 0}\n",
      "I20241102 15:28:17 3076981 dinov2 fmow.py:167] Subsetted dataset to only include rows where every row has atleast one image >= 256 | #rows = 29955\n",
      "I20241102 15:28:17 3076981 dinov2 fmow.py:132] Dataset size: 29955, sensor counts: {'wv23': 29900, 's2': 9993, 'rgb': 0}\n",
      "I20241102 15:28:18 3076981 dinov2 fmow.py:198] Subsetted dataset to only include rows where the number of available sensors >= 2 | #rows = 29955\n",
      "I20241102 15:28:18 3076981 dinov2 fmow.py:132] Dataset size: 29955, sensor counts: {'wv23': 29900, 's2': 9993, 'rgb': 0}\n",
      "I20241102 15:28:18 3076981 dinov2 fmow.py:118] Normalizing images\n",
      "I20241102 15:28:18 3076981 dinov2 loaders.py:109] Built dataset \"FmowDataset\" with #samples 29955\n"
     ]
    }
   ],
   "source": [
    "\"\"\" prepare datasets \"\"\"\n",
    "from omegaconf import OmegaConf\n",
    "from dinov2.data.loaders import make_dataset   \n",
    "from dinov2.eval.setup import setup_logger\n",
    "from dinov2.data.augmentations import make_augmentation\n",
    "\n",
    "global logger\n",
    "logger = setup_logger('dinov2', to_sysout=True)\n",
    "\n",
    "cfg = OmegaConf.create({\n",
    "    'id': 'FmowDataset',\n",
    "    'root': '/data/panopticon/datasets/',\n",
    "    'split': 'fmow/metadata_v2/fmow_iwm_onid_train_val.parquet',\n",
    "    'use_new_output': False,\n",
    "})\n",
    "ds_all = make_dataset(cfg)\n",
    "\n",
    "cfg.keep_sensors = ['rgb']\n",
    "ds_rgb = make_dataset(cfg)\n",
    "\n",
    "# cfg.keep_sensors = ['s2']\n",
    "# ds_s2 = make_dataset(cfg)\n",
    "\n",
    "# cfg.keep_sensors = ['wv23']\n",
    "# ds_wv = make_dataset(cfg)\n",
    "\n",
    "cfg.split = 'fmow/metadata_v2/fmow_iwm_onid_train_val_presorted.parquet'\n",
    "cfg.pop('keep_sensors')\n",
    "ds_wvs2 = make_dataset(cfg)\n"
   ]
  },
  {
   "cell_type": "code",
   "execution_count": null,
   "metadata": {},
   "outputs": [
    {
     "name": "stdout",
     "output_type": "stream",
     "text": [
      "I20241102 15:13:11 3076981 dinov2 augmentations.py:290] ###################################\n",
      "I20241102 15:13:11 3076981 dinov2 augmentations.py:291] Using data augmentation parameters:\n",
      "I20241102 15:13:11 3076981 dinov2 augmentations.py:292] id: ChnSpatialAugmentationV2\n",
      "I20241102 15:13:11 3076981 dinov2 augmentations.py:293] local_crops_number: 4\n",
      "I20241102 15:13:11 3076981 dinov2 augmentations.py:294] global_crops_scale: [0.32, 1.0]\n",
      "I20241102 15:13:11 3076981 dinov2 augmentations.py:295] local_crops_scale: [0.05, 0.32]\n",
      "I20241102 15:13:11 3076981 dinov2 augmentations.py:296] global_crops_size: 224\n",
      "I20241102 15:13:11 3076981 dinov2 augmentations.py:297] local_crops_size: 98\n",
      "I20241102 15:13:11 3076981 dinov2 augmentations.py:298] global_crops_spectral_size: [6, 13]\n",
      "I20241102 15:13:11 3076981 dinov2 augmentations.py:299] local_crops_spectral_size: [3, 6]\n",
      "I20241102 15:13:11 3076981 dinov2 augmentations.py:300] global_modes_probs: [0.8, 0.1, 0.1]\n",
      "I20241102 15:13:11 3076981 dinov2 augmentations.py:301] local_modes_probs: [0.2, 0.8]\n",
      "I20241102 15:13:11 3076981 dinov2 augmentations.py:302] ###################################\n",
      "I20241102 15:13:11 3076981 dinov2 augmentations.py:59] Augmentations in order: ['ChnSpatialAugmentationV2']\n",
      "I20241102 15:13:11 3076981 dinov2 augmentations.py:187] ###################################\n",
      "I20241102 15:13:11 3076981 dinov2 augmentations.py:188] Using data augmentation parameters:\n",
      "I20241102 15:13:11 3076981 dinov2 augmentations.py:189] id: ChnSpatialAugmentation\n",
      "I20241102 15:13:11 3076981 dinov2 augmentations.py:190] global_crops_scale: [0.32, 1.0]\n",
      "I20241102 15:13:11 3076981 dinov2 augmentations.py:191] local_crops_scale: [0.05, 0.32]\n",
      "I20241102 15:13:11 3076981 dinov2 augmentations.py:192] local_crops_number: 4\n",
      "I20241102 15:13:11 3076981 dinov2 augmentations.py:193] global_crops_size: [13, 224]\n",
      "I20241102 15:13:11 3076981 dinov2 augmentations.py:194] local_crops_size: [6, 98]\n",
      "I20241102 15:13:11 3076981 dinov2 augmentations.py:195] determinisitc_subset: False\n",
      "I20241102 15:13:11 3076981 dinov2 augmentations.py:196] ###################################\n",
      "I20241102 15:13:11 3076981 dinov2 augmentations.py:59] Augmentations in order: ['ChnSpatialAugmentation']\n"
     ]
    }
   ],
   "source": [
    "dino_augm_cfg = [OmegaConf.create({\n",
    "    'id': 'ChnSpatialAugmentationV2',\n",
    "    'global_crops_scale': [0.32, 1.0],\n",
    "    'local_crops_number': 4,\n",
    "    'global_crops_number': 2,\n",
    "    'local_crops_scale': [0.05, 0.32],\n",
    "    'global_crops_size': 224,\n",
    "    'local_crops_size': 98,\n",
    "    'global_crops_spectral_size': [6,13],\n",
    "    'local_crops_spectral_size': [3,6],\n",
    "    'global_modes_probs': [0.8, 0.1, 0.1],\n",
    "    'local_modes_probs': [0.2, 0.8],\n",
    "})]\n",
    "dino_augm_new = make_augmentation(dino_augm_cfg)\n",
    "\n",
    "\n",
    "\n",
    "dino_augm_cfg = [OmegaConf.create({\n",
    "    'id': 'ChnSpatialAugmentation',\n",
    "    'global_crops_scale': [0.32, 1.0],\n",
    "    'global_crops_number': 2,\n",
    "    'local_crops_number': 4,\n",
    "    'local_crops_scale': [0.05, 0.32],\n",
    "    'global_crops_size': [13, 224], # 224\n",
    "    'local_crops_size': [6, 98], # 98\n",
    "})]\n",
    "dino_augm = make_augmentation(dino_augm_cfg)"
   ]
  },
  {
   "cell_type": "markdown",
   "metadata": {},
   "source": [
    "## Correctness"
   ]
  },
  {
   "cell_type": "code",
   "execution_count": null,
   "metadata": {},
   "outputs": [],
   "source": [
    "def fwd(imgs, chn_ids, is_new):\n",
    "    if is_new: \n",
    "        out = [dict(\n",
    "            imgs = [imgs[i]],\n",
    "            chn_ids = [chn_ids[i]],\n",
    "        ) for i in range(len(imgs))]\n",
    "        out = dino_augm_new(out)\n",
    "    else:\n",
    "        out = dict(\n",
    "            imgs = [[i] for i in imgs], \n",
    "            chn_ids = chn_ids,\n",
    "        )\n",
    "        out = dino_augm(out)\n",
    "    return out"
   ]
  },
  {
   "cell_type": "code",
   "execution_count": null,
   "metadata": {},
   "outputs": [
    {
     "name": "stdout",
     "output_type": "stream",
     "text": [
      "2\n",
      "torch.Size([13, 224, 224]) torch.Size([13])\n",
      "torch.Size([13, 224, 224]) torch.Size([13])\n",
      "4\n",
      "torch.Size([6, 98, 98]) torch.Size([6])\n",
      "torch.Size([6, 98, 98]) torch.Size([6])\n",
      "torch.Size([6, 98, 98]) torch.Size([6])\n",
      "torch.Size([6, 98, 98]) torch.Size([6])\n"
     ]
    }
   ],
   "source": [
    "\"\"\" check shapes \"\"\"\n",
    "\n",
    "ds = ds_wvs2\n",
    "imgs, chn_ids = ds[0]\n",
    "out = fwd(imgs, chn_ids, True)\n",
    "\n",
    "print(len(out['global_crops']))\n",
    "for data_obj in out['global_crops']:\n",
    "    print(data_obj['imgs'].shape, data_obj['chn_ids'].shape)\n",
    "\n",
    "print(len(out['local_crops']))\n",
    "for data_obj in out['local_crops']:\n",
    "    print(data_obj['imgs'].shape, data_obj['chn_ids'].shape)"
   ]
  },
  {
   "cell_type": "code",
   "execution_count": null,
   "metadata": {},
   "outputs": [],
   "source": []
  },
  {
   "cell_type": "markdown",
   "metadata": {},
   "source": [
    "## Benchmarking"
   ]
  },
  {
   "cell_type": "code",
   "execution_count": 44,
   "metadata": {},
   "outputs": [],
   "source": [
    "import numpy as np\n",
    "import time"
   ]
  },
  {
   "cell_type": "code",
   "execution_count": null,
   "metadata": {},
   "outputs": [],
   "source": [
    "\"\"\" different modes \"\"\"\n",
    "\n",
    "def benchmark(ds):\n",
    "    start = time.time()\n",
    "    imgs, chn_ids = ds[np.random.randint(0, len(ds))]\n",
    "    data_time = time.time() - start\n",
    "\n",
    "    start = time.time()\n",
    "    out = fwd(imgs, chn_ids, is_new=True)\n",
    "    augm_new_time = time.time() - start\n",
    "\n",
    "    return data_time, augm_new_time\n",
    "\n"
   ]
  },
  {
   "cell_type": "code",
   "execution_count": 58,
   "metadata": {},
   "outputs": [
    {
     "name": "stdout",
     "output_type": "stream",
     "text": [
      "ds_name: data_time, augm_old_time, augm_new_time\n",
      "rgb : [0.14657643 0.02567428 0.03003799], [0.14690989 0.01672777 0.055954  ]\n",
      "wvs2: [0.12613507 0.02861156 0.01434147], [0.06535134 0.01285906 0.01131173]\n",
      "all : [0.13758    0.02398742 0.01641087], [0.04931806 0.00412526 0.00613196]\n"
     ]
    }
   ],
   "source": [
    "\"\"\" compare vs old augmentation on different subsets\"\"\"\n",
    "\n",
    "import time\n",
    "import numpy as np\n",
    "\n",
    "\n",
    "def benchmark(ds):\n",
    "    start = time.time()\n",
    "    imgs, chn_ids = ds[np.random.randint(0, len(ds))]\n",
    "    data_time = time.time() - start\n",
    "\n",
    "    start = time.time()\n",
    "    out = fwd(imgs, chn_ids, is_new=False)\n",
    "    augm_time = time.time() - start\n",
    "\n",
    "    start = time.time()\n",
    "    out = fwd(imgs, chn_ids, is_new=True)\n",
    "    augm_new_time = time.time() - start\n",
    "\n",
    "    return data_time, augm_time, augm_new_time\n",
    "\n",
    "\n",
    "nsamples = 100\n",
    "all_ds = {\n",
    "    'rgb ': ds_rgb,\n",
    "    'wvs2': ds_wvs2,\n",
    "    'all ': ds_all,\n",
    "}\n",
    "\n",
    "print('ds_name: data_time, augm_old_time, augm_new_time')\n",
    "for ds_name, ds in all_ds.items():\n",
    "    times = [benchmark(ds) for _ in range(nsamples)]\n",
    "    times = np.array(times)\n",
    "    print(f'{ds_name}: {times.mean(0)}, {times.std(0)}')\n"
   ]
  },
  {
   "cell_type": "code",
   "execution_count": 61,
   "metadata": {},
   "outputs": [
    {
     "name": "stdout",
     "output_type": "stream",
     "text": [
      "6: 0.016, 0.00010\n",
      "12: 0.032, 0.00020\n",
      "18: 0.047, 0.00017\n",
      "24: 0.063, 0.00564\n",
      "30: 0.078, 0.00050\n"
     ]
    }
   ],
   "source": [
    "\"\"\" benchmark loading more channels to cuda \"\"\"\n",
    "import torch\n",
    "import time\n",
    "\n",
    "device = 'cuda:0'\n",
    "\n",
    "nchns = [6,12,18,24,30]\n",
    "B = 60\n",
    "\n",
    "def benchmark(nchn):\n",
    "    x_dict = dict(\n",
    "        imgs = torch.randn(B, nchn, 224, 224),\n",
    "        chn_ids = torch.randint(0, 100, (B, nchn)),\n",
    "    )\n",
    "    start = time.time()\n",
    "    for k in x_dict:\n",
    "        x_dict[k] = x_dict[k].to(device)\n",
    "    torch.cuda.synchronize()\n",
    "    to_cuda_time = time.time() - start\n",
    "    return to_cuda_time\n",
    "\n",
    "nsamples = 200\n",
    "warmup = 100\n",
    "for nchn in nchns:\n",
    "    times = [benchmark(nchn) for _ in range(nsamples)]\n",
    "    times = np.array(times[warmup:])\n",
    "    print(f'{nchn}: {times.mean():.3f}, {times.std():.5f}')"
   ]
  }
 ],
 "metadata": {
  "kernelspec": {
   "display_name": "dinov2",
   "language": "python",
   "name": "python3"
  },
  "language_info": {
   "codemirror_mode": {
    "name": "ipython",
    "version": 3
   },
   "file_extension": ".py",
   "mimetype": "text/x-python",
   "name": "python",
   "nbconvert_exporter": "python",
   "pygments_lexer": "ipython3",
   "version": "3.9.20"
  }
 },
 "nbformat": 4,
 "nbformat_minor": 2
}
