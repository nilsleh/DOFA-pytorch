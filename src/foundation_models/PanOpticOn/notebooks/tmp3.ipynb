{
 "cells": [
  {
   "cell_type": "code",
   "execution_count": null,
   "metadata": {},
   "outputs": [],
   "source": [
    "%load_ext autoreload\n",
    "%autoreload 2\n",
    "import os\n",
    "import sys\n",
    "os.chdir(os.path.abspath('..'))"
   ]
  },
  {
   "cell_type": "code",
   "execution_count": null,
   "metadata": {},
   "outputs": [],
   "source": []
  },
  {
   "cell_type": "code",
   "execution_count": null,
   "metadata": {},
   "outputs": [],
   "source": [
    "\n",
    "classifier = MLkNN(k=3)\n"
   ]
  },
  {
   "cell_type": "code",
   "execution_count": null,
   "metadata": {},
   "outputs": [],
   "source": [
    "\"\"\" test multilabel knn\"\"\"\n",
    "import torch\n",
    "from dinov2.eval.setup import setup_logger\n",
    "from dinov2.data.loaders import make_dataset\n",
    "from omegaconf import OmegaConf\n",
    "from torch.utils.data import DataLoader\n",
    "from skmultilearn.adapt import MLkNN\n",
    "\n",
    "cfg = OmegaConf.create({\n",
    "    'id': 'geobench.m-bigearthnet',\n",
    "    'split': 'val'\n",
    "})\n",
    "global logger\n",
    "logger = setup_logger('dinov2', to_sysout=True)\n",
    "\n",
    "ds = make_dataset(cfg)\n",
    "dl = DataLoader(ds, batch_size=10, num_workers=0, shuffle=False)\n",
    "\n",
    "\n",
    "nsamples = 20\n",
    "X_train = torch.stack([ds[i][0]['imgs'] for i in range(nsamples)])\n",
    "y_train = torch.stack([ds[i][1] for i in range(nsamples)])\n",
    "print('Built samples')\n",
    "\n",
    "X_train = X_train.cpu().numpy()\n",
    "y_train = y_train.cpu().numpy()\n",
    "X_train = X_train.mean(axis=(1,3))\n",
    "print(X_train.shape, y_train.shape)\n",
    "\n",
    "classifier = MLkNN(k=3)\n",
    "classifier.fit(X_train, y_train.astype(int))\n",
    "\n",
    "# predict\n",
    "predictions = classifier.predict(X_train)\n",
    "\n",
    "# acc\n",
    "from sklearn.metrics import accuracy_score\n",
    "acc = accuracy_score(y_train, predictions)\n",
    "print('Accuracy:', acc)"
   ]
  },
  {
   "cell_type": "code",
   "execution_count": null,
   "metadata": {},
   "outputs": [],
   "source": [
    "import torch\n",
    "import re"
   ]
  },
  {
   "cell_type": "code",
   "execution_count": null,
   "metadata": {},
   "outputs": [],
   "source": [
    "ckpt = torch.load('/data/panopticon/logs/dino_logs/dino_rgb/bl_dino_rgb/model_final.pth', map_location='cpu')"
   ]
  },
  {
   "cell_type": "code",
   "execution_count": null,
   "metadata": {},
   "outputs": [],
   "source": [
    "pat = 'teacher.dino_head'\n",
    "\n",
    "keys = [k for k in ckpt['model'].keys() if re.search(pat, k)]\n",
    "print(keys)"
   ]
  },
  {
   "cell_type": "code",
   "execution_count": null,
   "metadata": {},
   "outputs": [],
   "source": [
    "ckpt = torch.load('/data/panopticon/other_model_ckpts/dinov2/dinov2_vitb14_pretrain.pth', map_location='cpu')"
   ]
  },
  {
   "cell_type": "code",
   "execution_count": null,
   "metadata": {},
   "outputs": [],
   "source": [
    "\n",
    "pat = 'patch_'\n",
    "keys = [k for k in ckpt.keys() if re.search(pat, k)]\n",
    "print(keys)"
   ]
  },
  {
   "cell_type": "code",
   "execution_count": null,
   "metadata": {},
   "outputs": [],
   "source": [
    "print(ckpt['patch_embed.proj.weight'].shape)\n",
    "print(ckpt['patch_embed.proj.bias'].shape)"
   ]
  },
  {
   "cell_type": "code",
   "execution_count": null,
   "metadata": {},
   "outputs": [],
   "source": [
    "new_weights = ckpt['patch_embed.proj.weight'].mean(axis=1).unsqueeze(1).unsqueeze(1)\n",
    "new_weights = {\n",
    "    'rgbmean_patch_embed.proj.weight': new_weights,\n",
    "    'rgbmean_patch_embed.proj.bias': ckpt['patch_embed.proj.bias']\n",
    "}\n",
    "for k,v in new_weights.items():\n",
    "    print(k, v.shape)\n",
    "torch.save(new_weights, '/data/panopticon/other_model_ckpts/dinov2/dinov2_vitb14_pretrain_pe_rgbmean.pth')"
   ]
  },
  {
   "cell_type": "code",
   "execution_count": null,
   "metadata": {},
   "outputs": [],
   "source": [
    "from dinov2.utils.utils import load_pretrained_weights\n",
    "from dinov2.models.panopticon import ChnWisePatchEmb\n",
    "\n",
    "\n",
    "our_pe = ChnWisePatchEmb(embed_dim=768, patch_size=14)\n",
    "\n",
    "pretrained_weights = [dict(\n",
    "    path = '/data/panopticon/other_model_ckpts/dinov2/dinov2_vitb14_pretrain_pe_rgbmean.pth',\n",
    "    prefix_map = {'rgbmean_patch_embed': ''}\n",
    ")]\n",
    "\n",
    "load_pretrained_weights(our_pe, pretrained_weights=pretrained_weights)"
   ]
  },
  {
   "cell_type": "code",
   "execution_count": null,
   "metadata": {},
   "outputs": [],
   "source": [
    "for n,p in our_pe.named_parameters():\n",
    "    print(n, p.shape)"
   ]
  },
  {
   "cell_type": "code",
   "execution_count": null,
   "metadata": {},
   "outputs": [],
   "source": [
    "import torch\n",
    "\n",
    "torch.arange(10)[[1,4,5]]"
   ]
  },
  {
   "cell_type": "code",
   "execution_count": null,
   "metadata": {},
   "outputs": [],
   "source": [
    "from omegaconf import OmegaConf\n",
    "from dinov2.data.loaders import make_dataset   \n",
    "from dinov2.eval.setup import setup_logger\n",
    "\n",
    "global logger\n",
    "logger = setup_logger('dinov2', to_sysout=True)\n",
    "\n",
    "cfg = OmegaConf.create({\n",
    "    'id': 'FmowDataset',\n",
    "    'root': '/data/panopticon/datasets/',\n",
    "    'split': 'fmow/metadata_v2/fmow_iwm_onid_train_val.parquet'\n",
    "})\n",
    "dino_augm_cfg = OmegaConf.create({\n",
    "    'id': 'ChnSpatialAugmentationV2',\n",
    "    'global_crops_scale': [0.32, 1.0],\n",
    "    'local_crops_number': 4,\n",
    "    'global_crops_number': 2,\n",
    "    'local_crops_scale': [0.05, 0.32],\n",
    "    'global_crops_size': 224,\n",
    "    'local_crops_size': 98,\n",
    "    'global_crops_spectral_size': [6,13],\n",
    "    'local_crops_spectral_size': [3,6],\n",
    "    'global_modes_probs': [0.8, 0.1, 0.1],\n",
    "    'local_modes_probs': [0.2, 0.8],\n",
    "})\n",
    "\n",
    "ds = make_dataset(cfg, dino_augm_cfg)"
   ]
  },
  {
   "cell_type": "code",
   "execution_count": null,
   "metadata": {},
   "outputs": [],
   "source": [
    "from dinov2.data.loaders import make_dataset  \n",
    "from omegaconf import OmegaConf\n",
    "from dinov2.eval.setup import setup_logger\n",
    "\n",
    "global logger\n",
    "logger = setup_logger('dinov2', to_sysout=True)\n",
    "\n",
    "cfg = OmegaConf.load('/home/lewaldm/code/PanOpticOn/dinov2/configs/debug.yaml')\n",
    "ds = make_dataset(cfg.train.dataset,cfg.train.dino_augm)\n",
    "ds[0]"
   ]
  }
 ],
 "metadata": {
  "kernelspec": {
   "display_name": "dinov2",
   "language": "python",
   "name": "python3"
  },
  "language_info": {
   "codemirror_mode": {
    "name": "ipython",
    "version": 3
   },
   "file_extension": ".py",
   "mimetype": "text/x-python",
   "name": "python",
   "nbconvert_exporter": "python",
   "pygments_lexer": "ipython3",
   "version": "3.9.20"
  }
 },
 "nbformat": 4,
 "nbformat_minor": 2
}
