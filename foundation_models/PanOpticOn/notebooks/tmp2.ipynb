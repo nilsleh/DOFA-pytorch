{
 "cells": [
  {
   "cell_type": "code",
   "execution_count": 3,
   "metadata": {},
   "outputs": [
    {
     "data": {
      "text/html": [
       "<div>\n",
       "<style scoped>\n",
       "    .dataframe tbody tr th:only-of-type {\n",
       "        vertical-align: middle;\n",
       "    }\n",
       "\n",
       "    .dataframe tbody tr th {\n",
       "        vertical-align: top;\n",
       "    }\n",
       "\n",
       "    .dataframe thead th {\n",
       "        text-align: right;\n",
       "    }\n",
       "</style>\n",
       "<table border=\"1\" class=\"dataframe\">\n",
       "  <thead>\n",
       "    <tr style=\"text-align: right;\">\n",
       "      <th></th>\n",
       "      <th>dir</th>\n",
       "      <th>id</th>\n",
       "    </tr>\n",
       "  </thead>\n",
       "  <tbody>\n",
       "    <tr>\n",
       "      <th>0</th>\n",
       "      <td>S2A_MSIL1C_20220905T134721_N0400_R024_T21KWS_2...</td>\n",
       "      <td>2810_4596</td>\n",
       "    </tr>\n",
       "    <tr>\n",
       "      <th>1</th>\n",
       "      <td>S2A_MSIL1C_20220905T134721_N0400_R024_T21KWS_2...</td>\n",
       "      <td>2821_4594</td>\n",
       "    </tr>\n",
       "    <tr>\n",
       "      <th>2</th>\n",
       "      <td>S2A_MSIL1C_20220905T134721_N0400_R024_T21KWS_2...</td>\n",
       "      <td>2811_4590</td>\n",
       "    </tr>\n",
       "    <tr>\n",
       "      <th>3</th>\n",
       "      <td>S2A_MSIL1C_20220905T134721_N0400_R024_T21KWS_2...</td>\n",
       "      <td>2815_4585</td>\n",
       "    </tr>\n",
       "    <tr>\n",
       "      <th>4</th>\n",
       "      <td>S2A_MSIL1C_20220905T134721_N0400_R024_T21KWS_2...</td>\n",
       "      <td>2818_4596</td>\n",
       "    </tr>\n",
       "    <tr>\n",
       "      <th>...</th>\n",
       "      <td>...</td>\n",
       "      <td>...</td>\n",
       "    </tr>\n",
       "    <tr>\n",
       "      <th>11000745</th>\n",
       "      <td>S2B_MSIL1C_20220914T030519_N0400_R075_T49RFJ_2...</td>\n",
       "      <td>6645_3494</td>\n",
       "    </tr>\n",
       "    <tr>\n",
       "      <th>11000746</th>\n",
       "      <td>S2B_MSIL1C_20220914T030519_N0400_R075_T49RFJ_2...</td>\n",
       "      <td>6659_3498</td>\n",
       "    </tr>\n",
       "    <tr>\n",
       "      <th>11000747</th>\n",
       "      <td>S2B_MSIL1C_20220628T140709_N0400_R110_T21LWL_2...</td>\n",
       "      <td>2808_4303</td>\n",
       "    </tr>\n",
       "    <tr>\n",
       "      <th>11000748</th>\n",
       "      <td>S2B_MSIL1C_20220628T140709_N0400_R110_T21LWL_2...</td>\n",
       "      <td>2806_4302</td>\n",
       "    </tr>\n",
       "    <tr>\n",
       "      <th>11000749</th>\n",
       "      <td>S2B_MSIL1C_20220628T140709_N0400_R110_T21LWL_2...</td>\n",
       "      <td>2808_4302</td>\n",
       "    </tr>\n",
       "  </tbody>\n",
       "</table>\n",
       "<p>11000750 rows × 2 columns</p>\n",
       "</div>"
      ],
      "text/plain": [
       "                                                        dir         id\n",
       "0         S2A_MSIL1C_20220905T134721_N0400_R024_T21KWS_2...  2810_4596\n",
       "1         S2A_MSIL1C_20220905T134721_N0400_R024_T21KWS_2...  2821_4594\n",
       "2         S2A_MSIL1C_20220905T134721_N0400_R024_T21KWS_2...  2811_4590\n",
       "3         S2A_MSIL1C_20220905T134721_N0400_R024_T21KWS_2...  2815_4585\n",
       "4         S2A_MSIL1C_20220905T134721_N0400_R024_T21KWS_2...  2818_4596\n",
       "...                                                     ...        ...\n",
       "11000745  S2B_MSIL1C_20220914T030519_N0400_R075_T49RFJ_2...  6645_3494\n",
       "11000746  S2B_MSIL1C_20220914T030519_N0400_R075_T49RFJ_2...  6659_3498\n",
       "11000747  S2B_MSIL1C_20220628T140709_N0400_R110_T21LWL_2...  2808_4303\n",
       "11000748  S2B_MSIL1C_20220628T140709_N0400_R110_T21LWL_2...  2806_4302\n",
       "11000749  S2B_MSIL1C_20220628T140709_N0400_R110_T21LWL_2...  2808_4302\n",
       "\n",
       "[11000750 rows x 2 columns]"
      ]
     },
     "execution_count": 3,
     "metadata": {},
     "output_type": "execute_result"
    }
   ],
   "source": [
    "import pandas as pd\n",
    "\n",
    "df2 = pd.read_csv('/data/panopticon/datasets/satlas/metadata_v2/sentinel2.csv')\n",
    "df2"
   ]
  },
  {
   "cell_type": "code",
   "execution_count": 2,
   "metadata": {},
   "outputs": [
    {
     "data": {
      "text/html": [
       "<div>\n",
       "<style scoped>\n",
       "    .dataframe tbody tr th:only-of-type {\n",
       "        vertical-align: middle;\n",
       "    }\n",
       "\n",
       "    .dataframe tbody tr th {\n",
       "        vertical-align: top;\n",
       "    }\n",
       "\n",
       "    .dataframe thead th {\n",
       "        text-align: right;\n",
       "    }\n",
       "</style>\n",
       "<table border=\"1\" class=\"dataframe\">\n",
       "  <thead>\n",
       "    <tr style=\"text-align: right;\">\n",
       "      <th></th>\n",
       "      <th>id</th>\n",
       "      <th>time</th>\n",
       "    </tr>\n",
       "  </thead>\n",
       "  <tbody>\n",
       "    <tr>\n",
       "      <th>0</th>\n",
       "      <td>4071_2653</td>\n",
       "      <td>2022-01</td>\n",
       "    </tr>\n",
       "    <tr>\n",
       "      <th>1</th>\n",
       "      <td>7474_4850</td>\n",
       "      <td>2022-01</td>\n",
       "    </tr>\n",
       "    <tr>\n",
       "      <th>2</th>\n",
       "      <td>6747_3156</td>\n",
       "      <td>2022-01</td>\n",
       "    </tr>\n",
       "    <tr>\n",
       "      <th>3</th>\n",
       "      <td>1880_3116</td>\n",
       "      <td>2022-01</td>\n",
       "    </tr>\n",
       "    <tr>\n",
       "      <th>4</th>\n",
       "      <td>4240_2826</td>\n",
       "      <td>2022-01</td>\n",
       "    </tr>\n",
       "    <tr>\n",
       "      <th>...</th>\n",
       "      <td>...</td>\n",
       "      <td>...</td>\n",
       "    </tr>\n",
       "    <tr>\n",
       "      <th>4533181</th>\n",
       "      <td>6677_3289</td>\n",
       "      <td>2022-06</td>\n",
       "    </tr>\n",
       "    <tr>\n",
       "      <th>4533182</th>\n",
       "      <td>5951_3462</td>\n",
       "      <td>2022-06</td>\n",
       "    </tr>\n",
       "    <tr>\n",
       "      <th>4533183</th>\n",
       "      <td>4466_2929</td>\n",
       "      <td>2022-06</td>\n",
       "    </tr>\n",
       "    <tr>\n",
       "      <th>4533184</th>\n",
       "      <td>5402_3556</td>\n",
       "      <td>2022-06</td>\n",
       "    </tr>\n",
       "    <tr>\n",
       "      <th>4533185</th>\n",
       "      <td>1923_3324</td>\n",
       "      <td>2022-06</td>\n",
       "    </tr>\n",
       "  </tbody>\n",
       "</table>\n",
       "<p>4533186 rows × 2 columns</p>\n",
       "</div>"
      ],
      "text/plain": [
       "                id     time\n",
       "0        4071_2653  2022-01\n",
       "1        7474_4850  2022-01\n",
       "2        6747_3156  2022-01\n",
       "3        1880_3116  2022-01\n",
       "4        4240_2826  2022-01\n",
       "...            ...      ...\n",
       "4533181  6677_3289  2022-06\n",
       "4533182  5951_3462  2022-06\n",
       "4533183  4466_2929  2022-06\n",
       "4533184  5402_3556  2022-06\n",
       "4533185  1923_3324  2022-06\n",
       "\n",
       "[4533186 rows x 2 columns]"
      ]
     },
     "execution_count": 2,
     "metadata": {},
     "output_type": "execute_result"
    }
   ],
   "source": [
    "df1 = pd.read_csv('/data/panopticon/datasets/satlas/metadata_v2/sentinel1.csv')\n",
    "df1"
   ]
  },
  {
   "cell_type": "code",
   "execution_count": 8,
   "metadata": {},
   "outputs": [
    {
     "name": "stdout",
     "output_type": "stream",
     "text": [
      "777389 950993 0 173604\n"
     ]
    }
   ],
   "source": [
    "s2_ids = set(df2['id'].unique())\n",
    "s1_ids = set(df1['id'].unique())\n",
    "\n",
    "print(len(s1_ids), len(s2_ids), len(s1_ids - s2_ids), len(s2_ids - s1_ids))"
   ]
  },
  {
   "cell_type": "code",
   "execution_count": 10,
   "metadata": {},
   "outputs": [
    {
     "data": {
      "text/plain": [
       "5.83129681536528"
      ]
     },
     "execution_count": 10,
     "metadata": {},
     "output_type": "execute_result"
    }
   ],
   "source": [
    "len(df1) / len(df1['id'].unique())"
   ]
  }
 ],
 "metadata": {
  "kernelspec": {
   "display_name": "Python 3",
   "language": "python",
   "name": "python3"
  },
  "language_info": {
   "codemirror_mode": {
    "name": "ipython",
    "version": 3
   },
   "file_extension": ".py",
   "mimetype": "text/x-python",
   "name": "python",
   "nbconvert_exporter": "python",
   "pygments_lexer": "ipython3",
   "version": "3.9.20"
  }
 },
 "nbformat": 4,
 "nbformat_minor": 2
}
