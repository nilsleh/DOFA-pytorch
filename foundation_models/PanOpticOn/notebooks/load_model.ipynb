{
 "cells": [
  {
   "cell_type": "markdown",
   "metadata": {},
   "source": [
    "The only dependency to run this (with reasonably new versions):\n",
    "- torch\n",
    "- numpy\n",
    "- omegaconf\n",
    "- wandb\n",
    "- python-dotenv\n",
    "- timm\n",
    "- ipykernel\n",
    "\n",
    "This works for us\n",
    "```\n",
    "conda create -n dinov2eval python=3.10 --yes\n",
    "conda activate dinov2eval\n",
    "pip install torch numpy omegaconf wandb python-dotenv timm ipykernel\n",
    "```\n",
    "\n",
    "Actually needed are only pytorch, numpy, and omegaconf but the others are imported on the way.\n",
    "\n",
    "\n",
    "Additionally, importing from `dinov2` needs to work. Options:\n",
    "- add to PYTHONPATH: \n",
    "    - in jupyternotebook: os.chdir(/path/to/PanOpticOn)\n",
    "    - in python command line: PYTHONPATH=/path/to/PanOpticOn/ python ...\n",
    "- install as module: pip install -e ., but this will install additional dependencies"
   ]
  },
  {
   "cell_type": "code",
   "execution_count": 1,
   "metadata": {},
   "outputs": [],
   "source": [
    "import torch\n",
    "import os\n",
    "os.chdir('/home/lewaldm/code/PanOpticOn')"
   ]
  },
  {
   "cell_type": "code",
   "execution_count": null,
   "metadata": {},
   "outputs": [
    {
     "name": "stderr",
     "output_type": "stream",
     "text": [
      "/home/lewaldm/code/PanOpticOn/dinov2/layers/swiglu_ffn.py:51: UserWarning: xFormers is not available (SwiGLU)\n",
      "  warnings.warn(\"xFormers is not available (SwiGLU)\")\n",
      "/home/lewaldm/code/PanOpticOn/dinov2/layers/attention.py:34: UserWarning: xFormers is not available (Attention)\n",
      "  warnings.warn(\"xFormers is not available (Attention)\")\n",
      "/home/lewaldm/code/PanOpticOn/dinov2/layers/block.py:40: UserWarning: xFormers is not available (Block)\n",
      "  warnings.warn(\"xFormers is not available (Block)\")\n",
      "/home/lewaldm/miniforge3/envs/dinov2eval/lib/python3.10/site-packages/tqdm/auto.py:21: TqdmWarning: IProgress not found. Please update jupyter and ipywidgets. See https://ipywidgets.readthedocs.io/en/stable/user_install.html\n",
      "  from .autonotebook import tqdm as notebook_tqdm\n",
      "/home/lewaldm/code/PanOpticOn/dinov2/eval/setup.py:108: FutureWarning: You are using `torch.load` with `weights_only=False` (the current default value), which uses the default pickle module implicitly. It is possible to construct malicious pickle data which will execute arbitrary code during unpickling (See https://github.com/pytorch/pytorch/blob/main/SECURITY.md#untrusted-models for more details). In a future release, the default value for `weights_only` will be flipped to `True`. This limits the functions that could be executed during unpickling. Arbitrary objects will no longer be allowed to be loaded via this mode unless they are explicitly allowlisted by the user via `torch.serialization.add_safe_globals`. We recommend you start setting `weights_only=True` for any use case where you don't have full control of the loaded file. Please open an issue on GitHub for any issues related to this experimental feature.\n",
      "  ckpt = torch.load(ckpt_path, map_location='cpu') # just load to check keys\n"
     ]
    },
    {
     "name": "stdout",
     "output_type": "stream",
     "text": [
      "23:41:04 __init__.py:59] Using student weights for teacher\n",
      "23:41:04 vision_transformer.py:114] using MLP layer as FFN\n",
      "23:41:04 vision_transformer.py:130] Embedding layer: ChnAttnPatchEmb\n",
      "23:41:04 panopticon.py:25] ChnAttnPatchEmb: id_attn_block: ChnAttnBlockSimple\n",
      "23:41:04 panopticon.py:101] ChnAttnBlockSimple: norm_input: False, skip_conn: True, norm_output: False, use_layer_scale: False\n",
      "23:41:05 setup.py:179] Built model dinov2\n",
      "23:41:05 utils.py:24] Processing pretrained weights from /data/panopticon/logs/dino_logs/ds4/+rgbhead+ibot/lr=1e-4_warmup=0_lrmul=backbone=0.2_wibot=0.1/model_final.pth\n"
     ]
    },
    {
     "name": "stderr",
     "output_type": "stream",
     "text": [
      "/home/lewaldm/code/PanOpticOn/dinov2/utils/utils.py:28: FutureWarning: You are using `torch.load` with `weights_only=False` (the current default value), which uses the default pickle module implicitly. It is possible to construct malicious pickle data which will execute arbitrary code during unpickling (See https://github.com/pytorch/pytorch/blob/main/SECURITY.md#untrusted-models for more details). In a future release, the default value for `weights_only` will be flipped to `True`. This limits the functions that could be executed during unpickling. Arbitrary objects will no longer be allowed to be loaded via this mode unless they are explicitly allowlisted by the user via `torch.serialization.add_safe_globals`. We recommend you start setting `weights_only=True` for any use case where you don't have full control of the loaded file. Please open an issue on GitHub for any issues related to this experimental feature.\n",
      "  state_dict = torch.load(ckpt_path, map_location=\"cpu\")\n"
     ]
    },
    {
     "name": "stdout",
     "output_type": "stream",
     "text": [
      "23:41:06 utils.py:33] Take key 'model' in provided checkpoint dict\n",
      "23:41:06 utils.py:53] Applied prefix load map: {'teacher.backbone.': ''}\n",
      "23:41:06 utils.py:55] From \"/data/panopticon/logs/dino_logs/ds4/+rgbhead+ibot/lr=1e-4_warmup=0_lrmul=backbone=0.2_wibot=0.1/model_final.pth\" selected keys are: ['cls_token', 'pos_embed', 'mask_token', 'patch_embed.patch_emb.proj.weight', 'patch_embed.patch_emb.proj.bias', 'patch_embed.chnattnblock.query', 'patch_embed.chnattnblock.norm1.weight', 'patch_embed.chnattnblock.norm1.bias', 'patch_embed.chnattnblock.attn.inproj_q.weight', 'patch_embed.chnattnblock.attn.inproj_q.bias', 'patch_embed.chnattnblock.attn.inproj_kv.weight', 'patch_embed.chnattnblock.attn.inproj_kv.bias', 'patch_embed.chnattnblock.attn.proj.weight', 'patch_embed.chnattnblock.attn.proj.bias', 'patch_embed.chnattnblock.ls1.gamma', 'patch_embed.chnattnblock.norm2.weight', 'patch_embed.chnattnblock.norm2.bias', 'patch_embed.chnattnblock.mlp.fc1.weight', 'patch_embed.chnattnblock.mlp.fc1.bias', 'patch_embed.chnattnblock.mlp.fc2.weight', 'patch_embed.chnattnblock.mlp.fc2.bias', 'patch_embed.chnattnblock.ls2.gamma', 'patch_embed.chnemb.learnable_embs', 'blocks.0.norm1.weight', 'blocks.0.norm1.bias', 'blocks.0.attn.qkv.weight', 'blocks.0.attn.qkv.bias', 'blocks.0.attn.proj.weight', 'blocks.0.attn.proj.bias', 'blocks.0.ls1.gamma', 'blocks.0.norm2.weight', 'blocks.0.norm2.bias', 'blocks.0.mlp.fc1.weight', 'blocks.0.mlp.fc1.bias', 'blocks.0.mlp.fc2.weight', 'blocks.0.mlp.fc2.bias', 'blocks.0.ls2.gamma', 'blocks.1.norm1.weight', 'blocks.1.norm1.bias', 'blocks.1.attn.qkv.weight', 'blocks.1.attn.qkv.bias', 'blocks.1.attn.proj.weight', 'blocks.1.attn.proj.bias', 'blocks.1.ls1.gamma', 'blocks.1.norm2.weight', 'blocks.1.norm2.bias', 'blocks.1.mlp.fc1.weight', 'blocks.1.mlp.fc1.bias', 'blocks.1.mlp.fc2.weight', 'blocks.1.mlp.fc2.bias', 'blocks.1.ls2.gamma', 'blocks.2.norm1.weight', 'blocks.2.norm1.bias', 'blocks.2.attn.qkv.weight', 'blocks.2.attn.qkv.bias', 'blocks.2.attn.proj.weight', 'blocks.2.attn.proj.bias', 'blocks.2.ls1.gamma', 'blocks.2.norm2.weight', 'blocks.2.norm2.bias', 'blocks.2.mlp.fc1.weight', 'blocks.2.mlp.fc1.bias', 'blocks.2.mlp.fc2.weight', 'blocks.2.mlp.fc2.bias', 'blocks.2.ls2.gamma', 'blocks.3.norm1.weight', 'blocks.3.norm1.bias', 'blocks.3.attn.qkv.weight', 'blocks.3.attn.qkv.bias', 'blocks.3.attn.proj.weight', 'blocks.3.attn.proj.bias', 'blocks.3.ls1.gamma', 'blocks.3.norm2.weight', 'blocks.3.norm2.bias', 'blocks.3.mlp.fc1.weight', 'blocks.3.mlp.fc1.bias', 'blocks.3.mlp.fc2.weight', 'blocks.3.mlp.fc2.bias', 'blocks.3.ls2.gamma', 'blocks.4.norm1.weight', 'blocks.4.norm1.bias', 'blocks.4.attn.qkv.weight', 'blocks.4.attn.qkv.bias', 'blocks.4.attn.proj.weight', 'blocks.4.attn.proj.bias', 'blocks.4.ls1.gamma', 'blocks.4.norm2.weight', 'blocks.4.norm2.bias', 'blocks.4.mlp.fc1.weight', 'blocks.4.mlp.fc1.bias', 'blocks.4.mlp.fc2.weight', 'blocks.4.mlp.fc2.bias', 'blocks.4.ls2.gamma', 'blocks.5.norm1.weight', 'blocks.5.norm1.bias', 'blocks.5.attn.qkv.weight', 'blocks.5.attn.qkv.bias', 'blocks.5.attn.proj.weight', 'blocks.5.attn.proj.bias', 'blocks.5.ls1.gamma', 'blocks.5.norm2.weight', 'blocks.5.norm2.bias', 'blocks.5.mlp.fc1.weight', 'blocks.5.mlp.fc1.bias', 'blocks.5.mlp.fc2.weight', 'blocks.5.mlp.fc2.bias', 'blocks.5.ls2.gamma', 'blocks.6.norm1.weight', 'blocks.6.norm1.bias', 'blocks.6.attn.qkv.weight', 'blocks.6.attn.qkv.bias', 'blocks.6.attn.proj.weight', 'blocks.6.attn.proj.bias', 'blocks.6.ls1.gamma', 'blocks.6.norm2.weight', 'blocks.6.norm2.bias', 'blocks.6.mlp.fc1.weight', 'blocks.6.mlp.fc1.bias', 'blocks.6.mlp.fc2.weight', 'blocks.6.mlp.fc2.bias', 'blocks.6.ls2.gamma', 'blocks.7.norm1.weight', 'blocks.7.norm1.bias', 'blocks.7.attn.qkv.weight', 'blocks.7.attn.qkv.bias', 'blocks.7.attn.proj.weight', 'blocks.7.attn.proj.bias', 'blocks.7.ls1.gamma', 'blocks.7.norm2.weight', 'blocks.7.norm2.bias', 'blocks.7.mlp.fc1.weight', 'blocks.7.mlp.fc1.bias', 'blocks.7.mlp.fc2.weight', 'blocks.7.mlp.fc2.bias', 'blocks.7.ls2.gamma', 'blocks.8.norm1.weight', 'blocks.8.norm1.bias', 'blocks.8.attn.qkv.weight', 'blocks.8.attn.qkv.bias', 'blocks.8.attn.proj.weight', 'blocks.8.attn.proj.bias', 'blocks.8.ls1.gamma', 'blocks.8.norm2.weight', 'blocks.8.norm2.bias', 'blocks.8.mlp.fc1.weight', 'blocks.8.mlp.fc1.bias', 'blocks.8.mlp.fc2.weight', 'blocks.8.mlp.fc2.bias', 'blocks.8.ls2.gamma', 'blocks.9.norm1.weight', 'blocks.9.norm1.bias', 'blocks.9.attn.qkv.weight', 'blocks.9.attn.qkv.bias', 'blocks.9.attn.proj.weight', 'blocks.9.attn.proj.bias', 'blocks.9.ls1.gamma', 'blocks.9.norm2.weight', 'blocks.9.norm2.bias', 'blocks.9.mlp.fc1.weight', 'blocks.9.mlp.fc1.bias', 'blocks.9.mlp.fc2.weight', 'blocks.9.mlp.fc2.bias', 'blocks.9.ls2.gamma', 'blocks.10.norm1.weight', 'blocks.10.norm1.bias', 'blocks.10.attn.qkv.weight', 'blocks.10.attn.qkv.bias', 'blocks.10.attn.proj.weight', 'blocks.10.attn.proj.bias', 'blocks.10.ls1.gamma', 'blocks.10.norm2.weight', 'blocks.10.norm2.bias', 'blocks.10.mlp.fc1.weight', 'blocks.10.mlp.fc1.bias', 'blocks.10.mlp.fc2.weight', 'blocks.10.mlp.fc2.bias', 'blocks.10.ls2.gamma', 'blocks.11.norm1.weight', 'blocks.11.norm1.bias', 'blocks.11.attn.qkv.weight', 'blocks.11.attn.qkv.bias', 'blocks.11.attn.proj.weight', 'blocks.11.attn.proj.bias', 'blocks.11.ls1.gamma', 'blocks.11.norm2.weight', 'blocks.11.norm2.bias', 'blocks.11.mlp.fc1.weight', 'blocks.11.mlp.fc1.bias', 'blocks.11.mlp.fc2.weight', 'blocks.11.mlp.fc2.bias', 'blocks.11.ls2.gamma', 'norm.weight', 'norm.bias']\n",
      "23:41:06 utils.py:66] Loaded state_dict with msg:\n",
      "missing_keys (len=1):\n",
      "  patch_embed.chnemb.cached_optical_embs\n",
      "unexpected_keys (len=0):\n",
      "\n"
     ]
    }
   ],
   "source": [
    "# load model\n",
    "from dinov2.eval.setup import setup_logger, parse_model_obj\n",
    "\n",
    "logger = setup_logger('dinov2', to_sysout=True, simple_prefix=True)\n",
    "model = parse_model_obj(\n",
    "    model_obj='path/to/downloaded/folder',\n",
    "    return_with_wrapper=False)"
   ]
  },
  {
   "cell_type": "markdown",
   "metadata": {},
   "source": [
    "The data format of our model is a dictionary. It contains the following keys:\n",
    "- imgs: tensor with the image data of shape (B, C, H, W)\n",
    "- chn_ids: tensor of shape (B, C) containing identifier of the channels used. For optical satellites, this is the wavelength in micro meter (e.g. 664 for red). For SAR satellites, negative indices {-1, ..., -12} are used as below.\n",
    "\n",
    "SAR map:\n",
    "| Index | Description    | Direction  |\n",
    "|-------|----------------|------------|\n",
    "| -1    | VV             | both       |\n",
    "| -2    | VH             | both       |\n",
    "| -3    | HH             | both       |\n",
    "| -4    | HV             | both       |\n",
    "| -5    | VV             | ascending  |\n",
    "| -6    | VH             | ascending  |\n",
    "| -7    | HH             | ascending  |\n",
    "| -8    | HV             | ascending  |\n",
    "| -9    | VV             | descending |\n",
    "| -10   | VH             | descending |\n",
    "| -11   | HH             | descending |\n",
    "| -12   | HV             | descending |\n"
   ]
  },
  {
   "cell_type": "code",
   "execution_count": 4,
   "metadata": {},
   "outputs": [],
   "source": [
    "# create artificial input (optical RGB channels concatenated with VV-both and VH-desc)\n",
    "x_dict = {\n",
    "    'imgs': torch.randn(2, 5, 224, 224),  # B, C, H, W\n",
    "    'chn_ids': torch.tensor([[664, 559, 492, -1, -10], \n",
    "                             [664, 559, 492, -1, -10]]) # B, C\n",
    "}\n",
    "\n",
    "model.eval()\n",
    "model.cuda()\n",
    "\n",
    "x_dict['imgs'] = x_dict['imgs'].cuda()\n",
    "x_dict['chn_ids'] = x_dict['chn_ids'].cuda()"
   ]
  },
  {
   "cell_type": "code",
   "execution_count": 5,
   "metadata": {},
   "outputs": [
    {
     "name": "stdout",
     "output_type": "stream",
     "text": [
      "length of outputs:  3\n",
      "patches shape:      (2, 256, 768)\n"
     ]
    }
   ],
   "source": [
    "\"\"\" Get the output of any intermediate layers of the model. \"\"\"\n",
    "idx_blocks_to_return = [4, 6, 10]\n",
    "\n",
    "outputs = model.get_intermediate_layers(x_dict, n=idx_blocks_to_return)\n",
    "\n",
    "# outputs is a tuple of length len(idx_blocks_to_return). Each element is the output\n",
    "# of the layer with the specified index in idx_blocks_to_return. All elements have\n",
    "# the same shape.\n",
    "\n",
    "assert isinstance(outputs, tuple)\n",
    "assert len(outputs) == len(idx_blocks_to_return)\n",
    "print('length of outputs: ', len(outputs))\n",
    "print('patches shape:     ', tuple(outputs[0].shape))\n",
    "\n",
    "# warning: negative indexing not supported! "
   ]
  },
  {
   "cell_type": "code",
   "execution_count": 6,
   "metadata": {},
   "outputs": [
    {
     "name": "stdout",
     "output_type": "stream",
     "text": [
      "length of outputs:  3\n",
      "patches shape:      (2, 256, 768)\n",
      "class token shape:  (2, 768)\n"
     ]
    }
   ],
   "source": [
    "# classification\n",
    "idx_blocks_to_return = [4, 6, 10]\n",
    "\n",
    "outputs = model.get_intermediate_layers(x_dict, n=idx_blocks_to_return, return_class_token=True)\n",
    "\n",
    "# outputs is a tuple of length len(idx_blocks_to_return). Each element is a tuple of two tensors:\n",
    "# the first tensor is the output of the corresponding layer, with shape (B, number of patches, embedding dimension)\n",
    "# the second tensor is class token with shape (B, 1, embedding dimension)\n",
    "\n",
    "assert isinstance(outputs, tuple)\n",
    "assert len(outputs) == len(idx_blocks_to_return)\n",
    "print('length of outputs: ', len(outputs))\n",
    "print('patches shape:     ', tuple(outputs[0][0].shape))\n",
    "print('class token shape: ', tuple(outputs[0][1].shape))\n",
    "\n",
    "# warning: negative indexing not supported! "
   ]
  }
 ],
 "metadata": {
  "kernelspec": {
   "display_name": "dinov2eval",
   "language": "python",
   "name": "python3"
  },
  "language_info": {
   "codemirror_mode": {
    "name": "ipython",
    "version": 3
   },
   "file_extension": ".py",
   "mimetype": "text/x-python",
   "name": "python",
   "nbconvert_exporter": "python",
   "pygments_lexer": "ipython3",
   "version": "3.10.15"
  }
 },
 "nbformat": 4,
 "nbformat_minor": 2
}
