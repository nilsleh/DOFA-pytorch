{
 "cells": [
  {
   "cell_type": "code",
   "execution_count": 1,
   "metadata": {},
   "outputs": [],
   "source": [
    "%load_ext autoreload\n",
    "%autoreload 2\n",
    "import os\n",
    "import sys\n",
    "import pandas as pd\n",
    "\n",
    "os.chdir(os.path.abspath('..'))\n"
   ]
  },
  {
   "cell_type": "code",
   "execution_count": 2,
   "metadata": {},
   "outputs": [
    {
     "name": "stderr",
     "output_type": "stream",
     "text": [
      "/home/ando/PanOpticOn/dinov2/layers/swiglu_ffn.py:43: UserWarning: xFormers is available (SwiGLU)\n",
      "  warnings.warn(\"xFormers is available (SwiGLU)\")\n",
      "/home/ando/PanOpticOn/dinov2/layers/attention.py:28: UserWarning: xFormers is available (Attention)\n",
      "  warnings.warn(\"xFormers is available (Attention)\")\n",
      "/home/ando/PanOpticOn/dinov2/layers/block.py:33: UserWarning: xFormers is available (Block)\n",
      "  warnings.warn(\"xFormers is available (Block)\")\n"
     ]
    },
    {
     "name": "stdout",
     "output_type": "stream",
     "text": [
      "04:03:38 loaders.py:68] Building dataset \"FmowDataset\" ...\n",
      "04:03:38 augmentations.py:291] ###################################\n",
      "04:03:38 augmentations.py:292] Using data augmentation parameters:\n",
      "04:03:38 augmentations.py:293] id: ChnSpatialAugmentationV2\n",
      "04:03:38 augmentations.py:294] local_crops_number: 4\n",
      "04:03:38 augmentations.py:295] global_crops_scale: [0.32, 1.0]\n",
      "04:03:38 augmentations.py:296] local_crops_scale: [0.05, 0.32]\n",
      "04:03:38 augmentations.py:297] global_crops_size: 224\n",
      "04:03:38 augmentations.py:298] local_crops_size: 98\n",
      "04:03:38 augmentations.py:299] global_crops_spectral_size: [6, 13]\n",
      "04:03:38 augmentations.py:300] local_crops_spectral_size: [3, 6]\n",
      "04:03:38 augmentations.py:301] global_modes_probs: [0.5, 0.3, 0.2]\n",
      "04:03:38 augmentations.py:302] local_modes_probs: [0.2, 0.8]\n",
      "04:03:38 augmentations.py:303] ###################################\n",
      "04:03:38 augmentations.py:59] Augmentations in order: ['ChnSpatialAugmentationV2']\n",
      "04:03:39 fmow.py:108] Using reference date: 2002-01-01\n",
      "04:03:41 fmow.py:130] Dataset size: 95418, sensor counts: {'wv23': 89301, 's2': 72858, 'rgb': 95418}\n",
      "04:03:44 fmow.py:165] Subsetted dataset to only include rows where every row has atleast one image >= 196 | #rows = 95418\n",
      "04:03:46 fmow.py:130] Dataset size: 95418, sensor counts: {'wv23': 89301, 's2': 72858, 'rgb': 95418}\n",
      "04:04:08 fmow.py:183] Subsetted dataset to only include rows where all image sizes >= 42 | #rows = 95418\n",
      "04:04:09 fmow.py:130] Dataset size: 95418, sensor counts: {'wv23': 89301, 's2': 30957, 'rgb': 95418}\n",
      "04:04:10 fmow.py:196] Subsetted dataset to only include rows where the number of available sensors >= 2 | #rows = 92774\n",
      "04:04:11 fmow.py:130] Dataset size: 92774, sensor counts: {'wv23': 89301, 's2': 30957, 'rgb': 92774}\n",
      "04:04:11 fmow.py:116] Normalizing images\n",
      "04:04:11 loaders.py:109] Built dataset \"FmowDataset\" with #samples 92774\n"
     ]
    }
   ],
   "source": [
    "from omegaconf import OmegaConf\n",
    "from dinov2.eval.setup import setup_logger\n",
    "from dinov2.data.loaders import make_dataset\n",
    "\n",
    "global logger\n",
    "logger = setup_logger('dinov2', to_sysout=True, simple_prefix=True)\n",
    "\n",
    "cfg = OmegaConf.load('notebooks/explore_crops.yaml')\n",
    "\n",
    "ds_fmow = make_dataset(cfg.fmow.dataset, dino_augm_cfg=cfg.fmow.dino_augm, seed=42)\n",
    "# ds_fmow_rgb = make_dataset(cfg.fmow_rgb.dataset, dino_augm_cfg=cfg.fmow_rgb.dino_augm, seed=42)\n",
    "# ds_mmearth = make_dataset(cfg.mmearth.dataset, dino_augm_cfg=cfg.mmearth.dino_augm, seed=42)"
   ]
  },
  {
   "cell_type": "code",
   "execution_count": 3,
   "metadata": {},
   "outputs": [
    {
     "name": "stdout",
     "output_type": "stream",
     "text": [
      "04:04:11 panopticon.py:28] ChnAttnPatchEmb: id_attn_block: ChnAttnBlockSimple\n",
      "04:04:11 panopticon.py:104] ChnAttnBlockSimple: norm_input: True, skip_conn: True, norm_output: False, use_layer_scale: False\n"
     ]
    }
   ],
   "source": [
    "from dinov2.models.panopticon import ChnAttnPatchEmb\n",
    "\n",
    "patch_emb_cfg = {'patch_size': 14, 'embed_dim': 256}\n",
    "chnAttnBlock_cfg = {'id_attn_block' :'ChnAttnBlockSimple', 'dim' : 256, 'num_heads':1}\n",
    "chnEmb_cfg = {'embed_dim':256}\n",
    "\n",
    "pan = ChnAttnPatchEmb(patch_emb_cfg=patch_emb_cfg, chnAttnBlock_cfg=chnAttnBlock_cfg, chnEmb_cfg=chnEmb_cfg) #, )"
   ]
  },
  {
   "cell_type": "markdown",
   "metadata": {},
   "source": [
    "# FMOW"
   ]
  },
  {
   "cell_type": "code",
   "execution_count": 4,
   "metadata": {},
   "outputs": [
    {
     "name": "stdout",
     "output_type": "stream",
     "text": [
      "dict_keys(['imgs', 'chn_ids', 'spec_masks'])\n"
     ]
    },
    {
     "data": {
      "text/plain": [
       "(tensor([[[ 665.0317,   35.7759],\n",
       "          [ 547.2723,   58.2955],\n",
       "          [ 482.4178,   45.0297],\n",
       "          [ 559.8556,   23.1510],\n",
       "          [ 442.7530,   42.5272],\n",
       "          [ 945.0536,   13.4182],\n",
       "          [ 704.1148,    9.6195],\n",
       "          [1373.4500,   20.0533],\n",
       "          [ 664.6184,   20.7967],\n",
       "          [ 492.7146,   42.5272],\n",
       "          [ 864.7394,   14.4033],\n",
       "          [1613.6824,   60.9985],\n",
       "          [2202.3992,  115.9262]],\n",
       " \n",
       "         [[ 665.0317,   35.7759],\n",
       "          [ 547.2723,   58.2955],\n",
       "          [ 482.4178,   45.0297],\n",
       "          [ 482.4178,   45.0297],\n",
       "          [ 482.4178,   45.0297],\n",
       "          [ 482.4178,   45.0297],\n",
       "          [ 482.4178,   45.0297],\n",
       "          [ 482.4178,   45.0297],\n",
       "          [ 482.4178,   45.0297],\n",
       "          [ 482.4178,   45.0297],\n",
       "          [ 482.4178,   45.0297],\n",
       "          [ 482.4178,   45.0297],\n",
       "          [ 482.4178,   45.0297]]]),\n",
       " tensor([[False, False, False, False, False, False, False, False, False, False,\n",
       "          False, False, False],\n",
       "         [False, False, False,  True,  True,  True,  True,  True,  True,  True,\n",
       "           True,  True,  True]]))"
      ]
     },
     "execution_count": 4,
     "metadata": {},
     "output_type": "execute_result"
    }
   ],
   "source": [
    "from torch.utils.data import DataLoader\n",
    "import torch\n",
    "\n",
    "\n",
    "dl_fmow = DataLoader(ds_fmow, batch_size=2)\n",
    "\n",
    "sample = next(iter(dl_fmow))\n",
    "\n",
    "sample = sample['global_crops_teacher'][0]\n",
    "print(sample.keys())\n",
    "\n",
    "input_0 = dict(imgs = sample['imgs'].to(dtype=torch.float32), chn_ids = sample['chn_ids'], spec_masks = sample['spec_masks'])\n",
    "\n",
    "input_0['chn_ids'], input_0['spec_masks']"
   ]
  },
  {
   "cell_type": "code",
   "execution_count": 5,
   "metadata": {},
   "outputs": [
    {
     "data": {
      "text/plain": [
       "(torch.Size([2, 13, 224, 224]),\n",
       " torch.Size([2, 13, 2]),\n",
       " torch.float32,\n",
       " torch.float32,\n",
       " 3)"
      ]
     },
     "execution_count": 5,
     "metadata": {},
     "output_type": "execute_result"
    }
   ],
   "source": [
    "input_0['imgs'].shape, input_0['chn_ids'].shape, input_0['imgs'].dtype, input_0['chn_ids'].dtype, input_0['chn_ids'].ndim"
   ]
  },
  {
   "cell_type": "code",
   "execution_count": 6,
   "metadata": {},
   "outputs": [
    {
     "name": "stdout",
     "output_type": "stream",
     "text": [
      "cuda\n"
     ]
    },
    {
     "name": "stdout",
     "output_type": "stream",
     "text": [
      "cuda:0\n",
      "cuda:0\n"
     ]
    },
    {
     "data": {
      "text/plain": [
       "torch.Size([2, 256, 256])"
      ]
     },
     "execution_count": 6,
     "metadata": {},
     "output_type": "execute_result"
    }
   ],
   "source": [
    "import torch\n",
    "device = torch.device('cuda' if torch.cuda.is_available() else 'cpu')\n",
    "print(device)\n",
    "\n",
    "for k in input_0:\n",
    "    input_0[k] = input_0[k].to(device)\n",
    "    torch.cuda.synchronize()\n",
    "\n",
    "print(input_0['imgs'].device)\n",
    "\n",
    "pan = pan.to(device)\n",
    "\n",
    "print(next(pan.parameters()).device)\n",
    "\n",
    "out = pan(input_0)\n",
    "out[0].shape"
   ]
  },
  {
   "cell_type": "code",
   "execution_count": 7,
   "metadata": {},
   "outputs": [
    {
     "data": {
      "text/plain": [
       "tensor([[[ 0.1676,  0.0591, -0.2679,  ..., -0.0559, -0.2735, -0.2597],\n",
       "         [ 0.2093,  0.0604, -0.2959,  ..., -0.0067, -0.3071, -0.2822],\n",
       "         [ 0.1655,  0.0068, -0.2983,  ..., -0.0702, -0.2940, -0.2987],\n",
       "         ...,\n",
       "         [ 0.0209, -0.0807, -0.0016,  ..., -0.0198, -0.0382, -0.3102],\n",
       "         [ 0.2016, -0.0173, -0.1999,  ..., -0.0569, -0.2119, -0.1968],\n",
       "         [ 0.0685, -0.0284, -0.0984,  ..., -0.1707, -0.2481, -0.2343]],\n",
       "\n",
       "        [[ 0.2714, -0.2637, -0.4503,  ...,  0.1052, -0.0192, -0.4206],\n",
       "         [-0.0825,  0.1623, -0.5813,  ...,  0.0761, -0.4141, -0.1594],\n",
       "         [ 0.1401, -0.0082, -0.4872,  ...,  0.0946, -0.2684, -0.4110],\n",
       "         ...,\n",
       "         [ 0.1732,  0.2671, -0.6665,  ...,  0.2388, -0.5738, -0.5373],\n",
       "         [ 0.2971,  0.2599, -0.6750,  ...,  0.1099, -0.2886, -0.1716],\n",
       "         [ 0.2156,  0.2702, -0.7520,  ...,  0.0608, -0.4418, -0.3473]]],\n",
       "       device='cuda:0', grad_fn=<ReshapeAliasBackward0>)"
      ]
     },
     "execution_count": 7,
     "metadata": {},
     "output_type": "execute_result"
    }
   ],
   "source": [
    "out[0]"
   ]
  },
  {
   "cell_type": "code",
   "execution_count": 8,
   "metadata": {},
   "outputs": [
    {
     "data": {
      "application/vnd.jupyter.widget-view+json": {
       "model_id": "1524423bd7b74b2f8425709ce09f2a69",
       "version_major": 2,
       "version_minor": 0
      },
      "text/plain": [
       "  0%|          | 0/100 [00:00<?, ?it/s]"
      ]
     },
     "metadata": {},
     "output_type": "display_data"
    }
   ],
   "source": [
    "from tqdm.notebook import tqdm\n",
    "max_iters = 100\n",
    "\n",
    "for i in tqdm(range(max_iters)):\n",
    "    sample = next(iter(dl_fmow))\n",
    "    sample = sample['global_crops_teacher'][0]\n",
    "    input_0 = dict(imgs = sample['imgs'].to(dtype=torch.float32), chn_ids = sample['chn_ids'], spec_masks = sample['spec_masks'])\n",
    "    for k in input_0:\n",
    "        input_0[k] = input_0[k].to(device)\n",
    "        torch.cuda.synchronize()\n",
    "    out = pan(input_0)\n",
    "    # print(out[0].shape)\n"
   ]
  },
  {
   "cell_type": "code",
   "execution_count": 9,
   "metadata": {},
   "outputs": [
    {
     "data": {
      "text/plain": [
       "{-1: 0,\n",
       " -2: 1,\n",
       " -3: 2,\n",
       " -4: 3,\n",
       " -5: 4,\n",
       " -6: 5,\n",
       " -7: 6,\n",
       " -8: 7,\n",
       " -9: 8,\n",
       " -10: 9,\n",
       " -11: 10,\n",
       " -12: 11,\n",
       " 442: 12,\n",
       " 482: 13,\n",
       " 492: 14,\n",
       " 547: 15,\n",
       " 559: 16,\n",
       " 664: 17,\n",
       " 665: 18,\n",
       " 704: 19,\n",
       " 864: 20,\n",
       " 945: 21,\n",
       " 1373: 22,\n",
       " 1613: 23,\n",
       " 2202: 24,\n",
       " 740: 25,\n",
       " 782: 26,\n",
       " 832: 27,\n",
       " 427: 28,\n",
       " 478: 29,\n",
       " 545: 30,\n",
       " 607: 31,\n",
       " 658: 32,\n",
       " 724: 33,\n",
       " 949: 34}"
      ]
     },
     "execution_count": 9,
     "metadata": {},
     "output_type": "execute_result"
    }
   ],
   "source": [
    "pan.chnemb.mu_map"
   ]
  },
  {
   "cell_type": "markdown",
   "metadata": {},
   "source": [
    "# MMEARTH"
   ]
  },
  {
   "cell_type": "markdown",
   "metadata": {},
   "source": [
    "## Optical only"
   ]
  },
  {
   "cell_type": "code",
   "execution_count": 10,
   "metadata": {},
   "outputs": [
    {
     "ename": "NameError",
     "evalue": "name 'ds_mmearth' is not defined",
     "output_type": "error",
     "traceback": [
      "\u001b[0;31m---------------------------------------------------------------------------\u001b[0m",
      "\u001b[0;31mNameError\u001b[0m                                 Traceback (most recent call last)",
      "Cell \u001b[0;32mIn[10], line 5\u001b[0m\n\u001b[1;32m      1\u001b[0m \u001b[38;5;28;01mfrom\u001b[39;00m \u001b[38;5;21;01mtorch\u001b[39;00m\u001b[38;5;21;01m.\u001b[39;00m\u001b[38;5;21;01mutils\u001b[39;00m\u001b[38;5;21;01m.\u001b[39;00m\u001b[38;5;21;01mdata\u001b[39;00m \u001b[38;5;28;01mimport\u001b[39;00m DataLoader\n\u001b[1;32m      2\u001b[0m \u001b[38;5;28;01mimport\u001b[39;00m \u001b[38;5;21;01mtorch\u001b[39;00m\n\u001b[0;32m----> 5\u001b[0m dl_mme \u001b[38;5;241m=\u001b[39m DataLoader(\u001b[43mds_mmearth\u001b[49m, batch_size\u001b[38;5;241m=\u001b[39m\u001b[38;5;241m2\u001b[39m)\n\u001b[1;32m      7\u001b[0m sample \u001b[38;5;241m=\u001b[39m \u001b[38;5;28mnext\u001b[39m(\u001b[38;5;28miter\u001b[39m(dl_mme))\n\u001b[1;32m      9\u001b[0m sample \u001b[38;5;241m=\u001b[39m sample[\u001b[38;5;124m'\u001b[39m\u001b[38;5;124mglobal_crops_teacher\u001b[39m\u001b[38;5;124m'\u001b[39m][\u001b[38;5;241m0\u001b[39m]\n",
      "\u001b[0;31mNameError\u001b[0m: name 'ds_mmearth' is not defined"
     ]
    }
   ],
   "source": [
    "from torch.utils.data import DataLoader\n",
    "import torch\n",
    "\n",
    "\n",
    "dl_mme = DataLoader(ds_mmearth, batch_size=2)\n",
    "\n",
    "sample = next(iter(dl_mme))\n",
    "\n",
    "sample = sample['global_crops_teacher'][0]\n",
    "print(sample.keys())\n",
    "\n",
    "input_0 = dict(imgs = sample['imgs'].to(dtype=torch.float32), chn_ids = sample['chn_ids'], spec_masks = sample['spec_masks'])\n",
    "\n",
    "input_0['chn_ids'], input_0['spec_masks']"
   ]
  },
  {
   "cell_type": "code",
   "execution_count": null,
   "metadata": {},
   "outputs": [
    {
     "data": {
      "text/plain": [
       "(torch.Size([2, 13, 196, 196]),\n",
       " torch.Size([2, 13, 2]),\n",
       " torch.float32,\n",
       " torch.float32,\n",
       " 3)"
      ]
     },
     "execution_count": 9,
     "metadata": {},
     "output_type": "execute_result"
    }
   ],
   "source": [
    "input_0['imgs'].shape, input_0['chn_ids'].shape, input_0['imgs'].dtype, input_0['chn_ids'].dtype, input_0['chn_ids'].ndim"
   ]
  },
  {
   "cell_type": "code",
   "execution_count": null,
   "metadata": {},
   "outputs": [
    {
     "data": {
      "text/plain": [
       "torch.Size([2, 196, 256])"
      ]
     },
     "execution_count": 10,
     "metadata": {},
     "output_type": "execute_result"
    }
   ],
   "source": [
    "out = pan(input_0)\n",
    "out[0].shape"
   ]
  },
  {
   "cell_type": "code",
   "execution_count": null,
   "metadata": {},
   "outputs": [
    {
     "data": {
      "text/plain": [
       "{-1: 0,\n",
       " -2: 1,\n",
       " -3: 2,\n",
       " -4: 3,\n",
       " -5: 4,\n",
       " -6: 5,\n",
       " -7: 6,\n",
       " -8: 7,\n",
       " -9: 8,\n",
       " -10: 9,\n",
       " -11: 10,\n",
       " -12: 11,\n",
       " 442: 12,\n",
       " 482: 13,\n",
       " 492: 14,\n",
       " 547: 15,\n",
       " 559: 16,\n",
       " 664: 17,\n",
       " 665: 18,\n",
       " 704: 19,\n",
       " 740: 20,\n",
       " 782: 21,\n",
       " 832: 22,\n",
       " 864: 23,\n",
       " 945: 24,\n",
       " 1373: 25,\n",
       " 1613: 26,\n",
       " 2202: 27}"
      ]
     },
     "execution_count": 11,
     "metadata": {},
     "output_type": "execute_result"
    }
   ],
   "source": [
    "pan.chnemb.mu_map"
   ]
  },
  {
   "cell_type": "markdown",
   "metadata": {},
   "source": [
    "## SAR"
   ]
  },
  {
   "cell_type": "code",
   "execution_count": null,
   "metadata": {},
   "outputs": [
    {
     "name": "stdout",
     "output_type": "stream",
     "text": [
      "dict_keys(['imgs', 'chn_ids', 'spec_masks'])\n"
     ]
    },
    {
     "data": {
      "text/plain": [
       "(tensor([[[-10.,  -1.],\n",
       "          [ -9.,  -1.],\n",
       "          [ -9.,  -1.],\n",
       "          [ -9.,  -1.],\n",
       "          [ -9.,  -1.],\n",
       "          [ -9.,  -1.],\n",
       "          [ -9.,  -1.],\n",
       "          [ -9.,  -1.],\n",
       "          [ -9.,  -1.],\n",
       "          [ -9.,  -1.],\n",
       "          [ -9.,  -1.],\n",
       "          [ -9.,  -1.],\n",
       "          [ -9.,  -1.]],\n",
       " \n",
       "         [[ -6.,  -1.],\n",
       "          [ -9.,  -1.],\n",
       "          [-10.,  -1.],\n",
       "          [ -5.,  -1.],\n",
       "          [ -5.,  -1.],\n",
       "          [ -5.,  -1.],\n",
       "          [ -5.,  -1.],\n",
       "          [ -5.,  -1.],\n",
       "          [ -5.,  -1.],\n",
       "          [ -5.,  -1.],\n",
       "          [ -5.,  -1.],\n",
       "          [ -5.,  -1.],\n",
       "          [ -5.,  -1.]]]),\n",
       " tensor([[0., 0., 1., 1., 1., 1., 1., 1., 1., 1., 1., 1., 1.],\n",
       "         [0., 0., 0., 0., 1., 1., 1., 1., 1., 1., 1., 1., 1.]]))"
      ]
     },
     "execution_count": 12,
     "metadata": {},
     "output_type": "execute_result"
    }
   ],
   "source": [
    "from torch.utils.data import DataLoader\n",
    "import torch\n",
    "\n",
    "\n",
    "dl_mme = DataLoader(ds_mmearth, batch_size=2)\n",
    "\n",
    "sample = next(iter(dl_mme))\n",
    "\n",
    "sample = sample['global_crops_teacher'][1]\n",
    "print(sample.keys())\n",
    "\n",
    "input_1 = dict(imgs = sample['imgs'].to(dtype=torch.float32), chn_ids = sample['chn_ids'], spec_masks = sample['spec_masks'])\n",
    "\n",
    "input_1['chn_ids'], input_1['spec_masks']"
   ]
  },
  {
   "cell_type": "code",
   "execution_count": null,
   "metadata": {},
   "outputs": [
    {
     "data": {
      "text/plain": [
       "(torch.Size([2, 13, 196, 196]),\n",
       " torch.Size([2, 13, 2]),\n",
       " torch.float32,\n",
       " torch.float32,\n",
       " 3)"
      ]
     },
     "execution_count": 13,
     "metadata": {},
     "output_type": "execute_result"
    }
   ],
   "source": [
    "input_1['imgs'].shape, input_1['chn_ids'].shape, input_1['imgs'].dtype, input_1['chn_ids'].dtype, input_1['chn_ids'].ndim"
   ]
  },
  {
   "cell_type": "code",
   "execution_count": null,
   "metadata": {},
   "outputs": [
    {
     "data": {
      "text/plain": [
       "torch.Size([2, 196, 256])"
      ]
     },
     "execution_count": 14,
     "metadata": {},
     "output_type": "execute_result"
    }
   ],
   "source": [
    "out = pan(input_1)\n",
    "out[0].shape"
   ]
  },
  {
   "cell_type": "code",
   "execution_count": 13,
   "metadata": {},
   "outputs": [
    {
     "data": {
      "text/plain": [
       "{-1: 0,\n",
       " -2: 1,\n",
       " -3: 2,\n",
       " -4: 3,\n",
       " -5: 4,\n",
       " -6: 5,\n",
       " -7: 6,\n",
       " -8: 7,\n",
       " -9: 8,\n",
       " -10: 9,\n",
       " -11: 10,\n",
       " -12: 11,\n",
       " 442: 12,\n",
       " 482: 13,\n",
       " 492: 14,\n",
       " 547: 15,\n",
       " 559: 16,\n",
       " 664: 17,\n",
       " 665: 18,\n",
       " 704: 19,\n",
       " 864: 20,\n",
       " 945: 21,\n",
       " 1373: 22,\n",
       " 1613: 23,\n",
       " 2202: 24,\n",
       " 740: 25,\n",
       " 782: 26,\n",
       " 832: 27,\n",
       " 427: 28,\n",
       " 478: 29,\n",
       " 545: 30,\n",
       " 607: 31,\n",
       " 658: 32,\n",
       " 724: 33,\n",
       " 949: 34}"
      ]
     },
     "execution_count": 13,
     "metadata": {},
     "output_type": "execute_result"
    }
   ],
   "source": [
    "pan.chnemb.mu_map"
   ]
  },
  {
   "cell_type": "code",
   "execution_count": 12,
   "metadata": {},
   "outputs": [
    {
     "data": {
      "image/png": "[encoded data removed]",
      "text/plain": [
       "<Figure size 6000x4000 with 2 Axes>"
      ]
     },
     "metadata": {},
     "output_type": "display_data"
    }
   ],
   "source": [
    "import matplotlib.pyplot as plt\n",
    "IPE = pan.chnemb.cached_optical_embs.cpu().numpy()\n",
    "\n",
    "fig, ax = plt.subplots(figsize=(60, 40))\n",
    "\n",
    "\n",
    "#plot P using matshow in ax\n",
    "cax = ax.matshow(IPE, cmap='RdYlBu')\n",
    "fig.colorbar(cax, shrink=0.4)\n",
    "\n",
    "\n",
    "ax.set_xlabel('Embedding Dimension')\n",
    "ax.set_ylabel('Sequence Length')\n",
    "\n",
    "plt.show()"
   ]
  },
  {
   "cell_type": "code",
   "execution_count": null,
   "metadata": {},
   "outputs": [],
   "source": []
  }
 ],
 "metadata": {
  "kernelspec": {
   "display_name": "dinov2",
   "language": "python",
   "name": "python3"
  },
  "language_info": {
   "codemirror_mode": {
    "name": "ipython",
    "version": 3
   },
   "file_extension": ".py",
   "mimetype": "text/x-python",
   "name": "python",
   "nbconvert_exporter": "python",
   "pygments_lexer": "ipython3",
   "version": "3.9.20"
  }
 },
 "nbformat": 4,
 "nbformat_minor": 2
}
